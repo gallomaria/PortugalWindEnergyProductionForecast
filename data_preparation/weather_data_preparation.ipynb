{
 "cells": [
  {
   "cell_type": "markdown",
   "id": "639e85c9-a9c7-4024-8fab-749b7b663dd3",
   "metadata": {},
   "source": [
    "# Weather Data Preparation"
   ]
  },
  {
   "cell_type": "code",
   "execution_count": 1,
   "id": "42f4ac1a-ed14-4dc3-8b0d-4ff4bece553f",
   "metadata": {},
   "outputs": [],
   "source": [
    "rm(list=ls())"
   ]
  },
  {
   "cell_type": "code",
   "execution_count": 2,
   "id": "f0bb0db6-71e5-427b-98d3-6e67f0913b00",
   "metadata": {},
   "outputs": [
    {
     "name": "stderr",
     "output_type": "stream",
     "text": [
      "── \u001b[1mAttaching packages\u001b[22m ──────────────────────────────────────────────────────────────────────── tidyverse 1.3.2 ──\n",
      "\u001b[32m✔\u001b[39m \u001b[34mggplot2\u001b[39m 3.3.6      \u001b[32m✔\u001b[39m \u001b[34mpurrr  \u001b[39m 0.3.5 \n",
      "\u001b[32m✔\u001b[39m \u001b[34mtibble \u001b[39m 3.1.8      \u001b[32m✔\u001b[39m \u001b[34mdplyr  \u001b[39m 1.0.10\n",
      "\u001b[32m✔\u001b[39m \u001b[34mtidyr  \u001b[39m 1.2.1      \u001b[32m✔\u001b[39m \u001b[34mforcats\u001b[39m 0.5.2 \n",
      "\u001b[32m✔\u001b[39m \u001b[34mreadr  \u001b[39m 2.1.3      \n",
      "── \u001b[1mConflicts\u001b[22m ─────────────────────────────────────────────────────────────────────────── tidyverse_conflicts() ──\n",
      "\u001b[31m✖\u001b[39m \u001b[34mdplyr\u001b[39m::\u001b[32mfilter()\u001b[39m masks \u001b[34mstats\u001b[39m::filter()\n",
      "\u001b[31m✖\u001b[39m \u001b[34mdplyr\u001b[39m::\u001b[32mlag()\u001b[39m    masks \u001b[34mstats\u001b[39m::lag()\n"
     ]
    }
   ],
   "source": [
    "library(fs)\n",
    "library(stringr)\n",
    "library(tidyverse)"
   ]
  },
  {
   "cell_type": "code",
   "execution_count": 3,
   "id": "c7494916-a51f-4916-b01c-ae9c87f69699",
   "metadata": {},
   "outputs": [],
   "source": [
    "# Read files and select columns\n",
    "folder = getwd()\n",
    "file_list <- dir_ls(file.path(dirname(folder), \"data/weather/observed_data_2015_2023/raw\"), regexp = \"\\\\.csv$\")\n",
    "\n",
    "for (i in seq_along(file_list)) {\n",
    "    file <- file_list[i]\n",
    "    tmp <- read.csv(file, sep = \",\")\n",
    "    tmp <- na.omit(tmp)\n",
    "\n",
    "    # Adjust date\n",
    "    m<-str_sub(tmp$time, 1, 10)\n",
    "    tmp$time <- NULL\n",
    "    date<-as.Date(m)\n",
    "    tmp$date<-date\n",
    "\n",
    "\n",
    "    # Group on day \n",
    "    tmp_agg<-aggregate(tmp, by=list(tmp$date), FUN=mean)\n",
    "    tmp_agg$date<-tmp_agg$Group.1\n",
    "    tmp_agg$Group.1<-NULL\n",
    "    colnames(tmp_agg) <- c(\"temperature_c\", \"pressure_msl\", \"windspeed_100m\", \" date\")\n",
    "    tmp_agg <- tmp_agg[, order(names(tmp_agg))]\n",
    "\n",
    "    # Save file\n",
    "    write.csv(tmp_agg, file = file.path(dirname(folder), \"data/weather/observed_data_2015_2023/final\", \n",
    "                      paste0(tools::file_path_sans_ext(basename(file)), \"_final.csv\")), row.names = FALSE)\n",
    "    }"
   ]
  },
  {
   "cell_type": "code",
   "execution_count": 4,
   "id": "4a30283e-e754-47d7-a25a-f6cf25ed35f5",
   "metadata": {},
   "outputs": [],
   "source": [
    "# Create unique df\n",
    "file_list <- dir_ls(file.path(dirname(folder), \"data/weather/observed_data_2015_2023/final\"), regexp = \"\\\\.csv$\")\n",
    "weather <- list()\n",
    "\n",
    "for (i in seq_along(file_list)) {\n",
    "    file <- file_list[i]\n",
    "    tmp <- read.csv(file, sep = \",\")\n",
    "    city <- basename(file)\n",
    "    city <- strsplit(city, split = \"_\")[[1]][1]\n",
    "    city <- paste0(\"_\", city)\n",
    "  \n",
    "    colnames(tmp)<-c(\"date\",paste0(c(\"temperature_c\", \"pressure_msl\", \"windspeed_100m\"), city))  \n",
    "    weather <- append(weather, list(tmp))\n",
    "}\n",
    "weather <- weather %>% reduce(full_join, by='date')"
   ]
  },
  {
   "cell_type": "code",
   "execution_count": 5,
   "id": "ebb82e7d-16dd-43c3-9574-a14c1ffdd671",
   "metadata": {},
   "outputs": [],
   "source": [
    "write.csv(weather, file = file.path(dirname(folder), \"data/weather/observed_data_2015_2023/final/merged\", \"weather.csv\"), row.names = FALSE)"
   ]
  }
 ],
 "metadata": {
  "kernelspec": {
   "display_name": "R",
   "language": "R",
   "name": "ir"
  },
  "language_info": {
   "codemirror_mode": "r",
   "file_extension": ".r",
   "mimetype": "text/x-r-source",
   "name": "R",
   "pygments_lexer": "r",
   "version": "4.2.1"
  }
 },
 "nbformat": 4,
 "nbformat_minor": 5
}
