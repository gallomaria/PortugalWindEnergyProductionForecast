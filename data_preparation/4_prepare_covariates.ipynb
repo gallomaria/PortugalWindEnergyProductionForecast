{
 "cells": [
  {
   "cell_type": "markdown",
   "id": "ad7e1bc6-062c-4c38-a5b3-293d2bded5a9",
   "metadata": {},
   "source": [
    "# Final Preparation of Covariates"
   ]
  },
  {
   "cell_type": "code",
   "execution_count": null,
   "id": "a509ce27-6446-4adc-be91-c549a30cc3f4",
   "metadata": {},
   "outputs": [],
   "source": [
    "rm(list=ls())"
   ]
  },
  {
   "cell_type": "code",
   "execution_count": null,
   "id": "5da6840c-a20d-42be-8bb2-7d3bcb6924c1",
   "metadata": {},
   "outputs": [],
   "source": [
    "library(ggplot2)"
   ]
  },
  {
   "cell_type": "code",
   "execution_count": null,
   "id": "1f33b320-a0e2-487d-a382-c8d09f5d2d69",
   "metadata": {},
   "outputs": [],
   "source": [
    "folder = getwd()\n",
    "weather <- read.csv(file.path(dirname(folder), \"data/weather/observed_data_2015_2023/final/merged/weather.csv\"))\n",
    "capacity <-read.csv(file.path(dirname(folder), \"data/installed_capacity/final/intalled_capacity.csv\"))"
   ]
  },
  {
   "cell_type": "code",
   "execution_count": null,
   "id": "bb3f5a61-3353-42c1-afe7-01c0c071625d",
   "metadata": {},
   "outputs": [],
   "source": [
    "head(weather)"
   ]
  },
  {
   "cell_type": "code",
   "execution_count": null,
   "id": "7c70a73a-307f-410d-a7be-98e9da088191",
   "metadata": {},
   "outputs": [],
   "source": [
    "head(capacity)"
   ]
  },
  {
   "cell_type": "code",
   "execution_count": null,
   "id": "9cca3b19-75f1-4115-bac7-5c85c0507a05",
   "metadata": {},
   "outputs": [],
   "source": [
    "covariates <- merge(weather, capacity, by = \"date\")"
   ]
  },
  {
   "cell_type": "code",
   "execution_count": null,
   "id": "7ce41b97-6237-4680-b1c2-c01c3732186f",
   "metadata": {},
   "outputs": [],
   "source": [
    "for (covar in names(covariates)[-1]) {  \n",
    "    tmp <- ts(covariates[[covar]], frequency = 365.25, start=c(2015, 01, 01))\n",
    "    ts.plot(tmp, col=c(\"lightblue\"), main = covar, ylab = \"\", xlab = \"Date\")\n",
    "    }"
   ]
  },
  {
   "cell_type": "code",
   "execution_count": null,
   "id": "448e4a75-8369-4751-a975-63850980623e",
   "metadata": {},
   "outputs": [],
   "source": [
    "# Save the file\n",
    "write.csv(covariates, file=file.path(dirname(folder), \"data/covariates/covariates_2015_2023.csv\"), row.names = FALSE)"
   ]
  }
 ],
 "metadata": {
  "kernelspec": {
   "display_name": "R",
   "language": "R",
   "name": "ir"
  },
  "language_info": {
   "codemirror_mode": "r",
   "file_extension": ".r",
   "mimetype": "text/x-r-source",
   "name": "R",
   "pygments_lexer": "r",
   "version": "4.2.1"
  }
 },
 "nbformat": 4,
 "nbformat_minor": 5
}
