{
 "cells": [
  {
   "cell_type": "markdown",
   "id": "639e85c9-a9c7-4024-8fab-749b7b663dd3",
   "metadata": {},
   "source": [
    "# Energy Data Preparation"
   ]
  },
  {
   "cell_type": "code",
   "execution_count": 1,
   "id": "42f4ac1a-ed14-4dc3-8b0d-4ff4bece553f",
   "metadata": {},
   "outputs": [],
   "source": [
    "rm(list=ls())"
   ]
  },
  {
   "cell_type": "code",
   "execution_count": 14,
   "id": "f0bb0db6-71e5-427b-98d3-6e67f0913b00",
   "metadata": {},
   "outputs": [
    {
     "name": "stderr",
     "output_type": "stream",
     "text": [
      "── \u001b[1mAttaching packages\u001b[22m ──────────────────────────────────────────────────────────────────────── tidyverse 1.3.2 ──\n",
      "\u001b[32m✔\u001b[39m \u001b[34mggplot2\u001b[39m 3.3.6      \u001b[32m✔\u001b[39m \u001b[34mpurrr  \u001b[39m 0.3.5 \n",
      "\u001b[32m✔\u001b[39m \u001b[34mtibble \u001b[39m 3.1.8      \u001b[32m✔\u001b[39m \u001b[34mdplyr  \u001b[39m 1.0.10\n",
      "\u001b[32m✔\u001b[39m \u001b[34mtidyr  \u001b[39m 1.2.1      \u001b[32m✔\u001b[39m \u001b[34mforcats\u001b[39m 0.5.2 \n",
      "\u001b[32m✔\u001b[39m \u001b[34mreadr  \u001b[39m 2.1.3      \n",
      "── \u001b[1mConflicts\u001b[22m ─────────────────────────────────────────────────────────────────────────── tidyverse_conflicts() ──\n",
      "\u001b[31m✖\u001b[39m \u001b[34mdplyr\u001b[39m::\u001b[32mfilter()\u001b[39m masks \u001b[34mstats\u001b[39m::filter()\n",
      "\u001b[31m✖\u001b[39m \u001b[34mdplyr\u001b[39m::\u001b[32mlag()\u001b[39m    masks \u001b[34mstats\u001b[39m::lag()\n"
     ]
    }
   ],
   "source": [
    "library(fs)\n",
    "library(stringr)\n",
    "library(tidyverse)"
   ]
  },
  {
   "cell_type": "code",
   "execution_count": 3,
   "id": "c7494916-a51f-4916-b01c-ae9c87f69699",
   "metadata": {},
   "outputs": [],
   "source": [
    "# Read files and select columns\n",
    "folder = getwd()\n",
    "file_list <- dir_ls(file.path(folder, \"data/weather/observed_data_2015_2023/raw\"), regexp = \"\\\\.csv$\")\n",
    "\n",
    "for (i in seq_along(file_list)) {\n",
    "    file <- file_list[i]\n",
    "    tmp <- read.csv(file, sep = \",\")\n",
    "    tmp <- na.omit(tmp)\n",
    "\n",
    "    # Adjust date\n",
    "    m<-str_sub(tmp$time, 1, 10)\n",
    "    tmp$time <- NULL\n",
    "    date<-as.Date(m)\n",
    "    tmp$date<-date\n",
    "\n",
    "\n",
    "    # Group on day \n",
    "    tmp_agg<-aggregate(tmp, by=list(tmp$date), FUN=mean)\n",
    "    tmp_agg$date<-tmp_agg$Group.1\n",
    "    tmp_agg$Group.1<-NULL\n",
    "    colnames(tmp_agg) <- c(\"temperature_c\", \"pressure_msl\", \"windspeed_100m\", \" date\")\n",
    "    tmp_agg <- tmp_agg[, order(names(tmp_agg))]\n",
    "\n",
    "    # Save file\n",
    "    write.csv(tmp_agg, file = file.path(folder, \"data/weather/observed_data_2015_2023/final\", \n",
    "                      paste0(tools::file_path_sans_ext(basename(file)), \"_final.csv\")), row.names = FALSE)\n",
    "    }"
   ]
  },
  {
   "cell_type": "code",
   "execution_count": 17,
   "id": "4a30283e-e754-47d7-a25a-f6cf25ed35f5",
   "metadata": {},
   "outputs": [
    {
     "name": "stdout",
     "output_type": "stream",
     "text": [
      "        date temperature_c_castelobranco pressure_msl_castelobranco\n",
      "1 2015-01-01                    1034.829                   5.375000\n",
      "2 2015-01-02                    1037.850                   5.887500\n",
      "3 2015-01-03                    1037.904                   7.095833\n",
      "4 2015-01-04                    1033.575                   7.141667\n",
      "5 2015-01-05                    1029.350                   6.912500\n",
      "6 2015-01-06                    1028.588                   3.483333\n",
      "  windspeed_100m_castelobranco temperature_c_evora pressure_msl_evora\n",
      "1                     9.033333            1034.096           6.975000\n",
      "2                     9.845833            1037.075           7.766667\n",
      "3                     9.170833            1037.208           7.945833\n",
      "4                     7.362500            1032.933           8.170833\n",
      "5                     7.854167            1029.450           7.320833\n",
      "6                     6.308333            1028.629           5.891667\n",
      "  windspeed_100m_evora temperature_c_faro pressure_msl_faro windspeed_100m_faro\n",
      "1            16.312500           1033.300          11.67083           15.137500\n",
      "2            18.337500           1036.329          11.75833           10.841667\n",
      "3            14.325000           1036.296          12.68750           13.783333\n",
      "4            13.058333           1032.421          13.07500            7.754167\n",
      "5             9.729167           1029.429          12.88750            6.604167\n",
      "6            11.925000           1028.342          10.56250           15.458333\n",
      "  temperature_c_guarda pressure_msl_guarda windspeed_100m_guarda\n",
      "1             1035.692            2.483333             14.737500\n",
      "2             1038.017            3.883333              9.116667\n",
      "3             1037.721            6.050000              3.929167\n",
      "4             1033.892            5.137500              8.908333\n",
      "5             1028.917            5.125000              6.541667\n",
      "6             1028.767            1.820833              8.666667\n",
      "  temperature_c_leiria pressure_msl_leiria windspeed_100m_leiria\n",
      "1             1034.679            8.650000             10.620833\n",
      "2             1037.504            7.270833              5.608333\n",
      "3             1037.746            8.208333             11.137500\n",
      "4             1033.617            8.966667              8.012500\n",
      "5             1029.737            7.408333              7.983333\n",
      "6             1028.421            8.325000              9.425000\n",
      "  temperature_c_lisbona pressure_msl_lisbona windspeed_100m_lisbona\n",
      "1              1034.458             8.445833              16.504167\n",
      "2              1037.162             8.929167              14.650000\n",
      "3              1037.404             8.912500              14.004167\n",
      "4              1033.296             8.991667              14.204167\n",
      "5              1029.754             7.916667              10.366667\n",
      "6              1028.417             9.629167               7.158333\n",
      "  temperature_c_porto pressure_msl_porto windspeed_100m_porto\n",
      "1            1035.263           6.983333             9.800000\n",
      "2            1037.750           7.200000             6.508333\n",
      "3            1038.054           7.495833             7.316667\n",
      "4            1033.846           7.362500             5.916667\n",
      "5            1029.625           8.025000             6.895833\n",
      "6            1028.492           8.291667             6.933333\n",
      "  temperature_c_santarem pressure_msl_santarem windspeed_100m_santarem\n",
      "1               1034.633              5.766667                12.82500\n",
      "2               1037.579              6.170833                12.19583\n",
      "3               1037.808              6.066667                13.56667\n",
      "4               1033.500              6.237500                10.46250\n",
      "5               1029.783              5.237500                 9.31250\n",
      "6               1028.458              6.512500                 8.31250\n",
      "  temperature_c_vilareal pressure_msl_vilareal windspeed_100m_vilareal\n",
      "1               1035.917              5.383333               10.625000\n",
      "2               1038.154              5.800000                9.016667\n",
      "3               1038.112              6.100000                4.862500\n",
      "4               1034.150              6.425000                9.487500\n",
      "5               1029.608              5.175000                7.145833\n",
      "6               1029.000              3.941667                5.208333\n"
     ]
    }
   ],
   "source": [
    "# Create unique df\n",
    "file_list <- dir_ls(file.path(folder, \"data/weather/observed_data_2015_2023/final\"), regexp = \"\\\\.csv$\")\n",
    "weather <- list()\n",
    "\n",
    "for (i in seq_along(file_list)) {\n",
    "    file <- file_list[i]\n",
    "    tmp <- read.csv(file, sep = \",\")\n",
    "    city <- basename(file)\n",
    "    city <- strsplit(city, split = \"_\")[[1]][1]\n",
    "    city <- paste0(\"_\", city)\n",
    "  \n",
    "    colnames(tmp)<-c(\"date\",paste0(c(\"temperature_c\", \"pressure_msl\", \"windspeed_100m\"), city))\n",
    "    \n",
    "    weather <- append(weather, list(tmp))\n",
    "}\n",
    "\n",
    "weather <- weather %>% reduce(full_join, by='date')\n",
    "write.csv(weather, file = file.path(folder, \"data/weather/observed_data_2015_2023/final\", \"weather_final.csv\"), row.names = FALSE)"
   ]
  }
 ],
 "metadata": {
  "kernelspec": {
   "display_name": "R",
   "language": "R",
   "name": "ir"
  },
  "language_info": {
   "codemirror_mode": "r",
   "file_extension": ".r",
   "mimetype": "text/x-r-source",
   "name": "R",
   "pygments_lexer": "r",
   "version": "4.2.1"
  }
 },
 "nbformat": 4,
 "nbformat_minor": 5
}
