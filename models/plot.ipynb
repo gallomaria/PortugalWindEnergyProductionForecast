{
 "cells": [
  {
   "cell_type": "code",
   "execution_count": null,
   "id": "51945c4f-be66-4e01-b02d-4df5834b7566",
   "metadata": {},
   "outputs": [],
   "source": [
    "ggplot(sarima_df, aes(x=date,y=Observed))+\n",
    "    geom_line(aes(x=date,y=Observed, color=\"Observed\")) +\n",
    "    geom_line(aes(x=date, y=Predicted, color=\"Predicted\")) +\n",
    "    labs(color=\"\", x=\"Date\", y=\"Production Power (MW)\")+\n",
    "    scale_colour_manual(values=c(\"Observed\"=\"orangered3\", \"Predicted\"=\"cyan4\"))+\n",
    "    theme(legend.position = \"top\")"
   ]
  }
 ],
 "metadata": {
  "kernelspec": {
   "display_name": "Python 3 (ipykernel)",
   "language": "python",
   "name": "python3"
  },
  "language_info": {
   "codemirror_mode": {
    "name": "ipython",
    "version": 3
   },
   "file_extension": ".py",
   "mimetype": "text/x-python",
   "name": "python",
   "nbconvert_exporter": "python",
   "pygments_lexer": "ipython3",
   "version": "3.12.7"
  }
 },
 "nbformat": 4,
 "nbformat_minor": 5
}
