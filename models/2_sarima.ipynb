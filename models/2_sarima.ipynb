{
 "cells": [
  {
   "cell_type": "markdown",
   "id": "b1ed5141-c665-440e-835e-2924409bd906",
   "metadata": {},
   "source": [
    "# SARIMA Model"
   ]
  },
  {
   "cell_type": "code",
   "execution_count": 1,
   "id": "ed38385d-b923-4ed5-916c-5d443f6fdbbe",
   "metadata": {},
   "outputs": [],
   "source": [
    "rm(list=ls())\n",
    "options(warn = -1)"
   ]
  },
  {
   "cell_type": "code",
   "execution_count": 2,
   "id": "ba7cacac-c307-486f-b2e4-4912e3763ba6",
   "metadata": {},
   "outputs": [],
   "source": [
    "suppressMessages(library(forecast))\n",
    "suppressMessages(library(ggplot2))"
   ]
  },
  {
   "cell_type": "code",
   "execution_count": 3,
   "id": "b8a20833-546e-4d50-8d4b-4427f049a924",
   "metadata": {},
   "outputs": [],
   "source": [
    "folder <- getwd()\n",
    "train <- read.csv(file.path(dirname(folder), \"data/training.csv\"))\n",
    "\n",
    "y_ts_train <- ts(train$wind_prod, start=c(2015,1,1), frequency=365.25)\n",
    "X_ts_train <- ts(train[, c(3:30)], start=c(2015,1,1), frequency = 365.25)"
   ]
  },
  {
   "cell_type": "code",
   "execution_count": 4,
   "id": "1ff76689-2bfc-4f20-a7fe-4fad7285800d",
   "metadata": {},
   "outputs": [
    {
     "name": "stdout",
     "output_type": "stream",
     "text": [
      "\n",
      " Fitting models using approximations to speed things up...\n",
      "\n",
      " ARIMA(2,0,2)(1,0,1)[365.25] with non-zero mean : Inf\n",
      " Regression with ARIMA(0,0,0)             errors : 37751.24\n",
      " ARIMA(1,0,0)(1,0,0)[365.25] with non-zero mean : Inf\n",
      " ARIMA(0,0,1)(0,0,1)[365.25] with non-zero mean : Inf\n",
      " Regression with ARIMA(0,0,0)             errors : 37781.69\n",
      " ARIMA(0,0,0)(1,0,0)[365.25] with non-zero mean : Inf\n",
      " ARIMA(0,0,0)(0,0,1)[365.25] with non-zero mean : Inf\n",
      " ARIMA(0,0,0)(1,0,1)[365.25] with non-zero mean : Inf\n",
      " Regression with ARIMA(1,0,0)             errors : 37439.7\n",
      " ARIMA(1,0,0)(0,0,1)[365.25] with non-zero mean : Inf\n",
      " ARIMA(1,0,0)(1,0,1)[365.25] with non-zero mean : Inf\n",
      " Regression with ARIMA(2,0,0)             errors : 37440.55\n",
      " Regression with ARIMA(1,0,1)             errors : 37438.97\n",
      " ARIMA(1,0,1)(1,0,0)[365.25] with non-zero mean : Inf\n",
      " ARIMA(1,0,1)(0,0,1)[365.25] with non-zero mean : Inf\n",
      " ARIMA(1,0,1)(1,0,1)[365.25] with non-zero mean : Inf\n",
      " Regression with ARIMA(0,0,1)             errors : 37481.02\n",
      " Regression with ARIMA(2,0,1)             errors : 37414.44\n",
      " ARIMA(2,0,1)(1,0,0)[365.25] with non-zero mean : Inf\n",
      " ARIMA(2,0,1)(0,0,1)[365.25] with non-zero mean : Inf\n",
      " ARIMA(2,0,1)(1,0,1)[365.25] with non-zero mean : Inf\n",
      " Regression with ARIMA(3,0,1)             errors : 37417.34\n",
      " Regression with ARIMA(2,0,2)             errors : 37415.9\n",
      " Regression with ARIMA(1,0,2)             errors : 37422.98\n",
      " Regression with ARIMA(3,0,0)             errors : 37439.32\n",
      " Regression with ARIMA(3,0,2)             errors : 37419\n",
      " Regression with ARIMA(2,0,1)             errors : 37430.5\n",
      "\n",
      " Now re-fitting the best model(s) without approximations...\n",
      "\n",
      " Regression with ARIMA(2,0,1)             errors : 37412.91\n",
      "\n",
      " Best model: Regression with ARIMA(2,0,1)             errors \n",
      "\n"
     ]
    },
    {
     "data": {
      "text/plain": [
       "Series: y_ts_train \n",
       "Regression with ARIMA(2,0,1) errors \n",
       "\n",
       "Coefficients:\n",
       "         ar1      ar2      ma1  intercept  pressure_sl_m_castelobranco\n",
       "      1.2621  -0.2809  -0.9431  -5911.263                    -193.6471\n",
       "s.e.  0.0262   0.0219   0.0164   1418.088                      33.1079\n",
       "      temperature_c_castelobranco  windspeed_100m_kmh_castelobranco\n",
       "                         -54.0330                            6.8080\n",
       "s.e.                      12.2655                            2.0551\n",
       "      pressure_sl_m_evora  temperature_c_evora  windspeed_100m_kmh_evora\n",
       "                  92.8578              -0.2847                    3.3098\n",
       "s.e.              45.0696              12.5599                    2.5399\n",
       "      pressure_sl_m_faro  temperature_c_faro  windspeed_100m_kmh_faro\n",
       "                -14.9836            -24.5047                  11.4234\n",
       "s.e.             20.5894              6.8298                   1.2692\n",
       "      pressure_sl_m_guarda  temperature_c_guarda  windspeed_100m_kmh_guarda\n",
       "                  166.9411               76.3456                    36.3685\n",
       "s.e.               26.5825               11.1162                     1.6400\n",
       "      pressure_sl_m_leiria  temperature_c_leiria  windspeed_100m_kmh_leiria\n",
       "                   77.3875                4.7677                    29.0251\n",
       "s.e.               61.6026               12.7821                     2.5659\n",
       "      pressure_sl_m_lisbona  temperature_c_lisbona  windspeed_100m_kmh_lisbona\n",
       "                  -169.0452                -1.5353                     -5.2513\n",
       "s.e.                44.2345                12.6259                      1.9111\n",
       "      pressure_sl_m_porto  temperature_c_porto  windspeed_100m_kmh_porto\n",
       "                  58.7729              60.5075                    1.4552\n",
       "s.e.              37.9584               9.4595                    1.7226\n",
       "      pressure_sl_m_santarem  temperature_c_santarem\n",
       "                    170.7449                  2.7599\n",
       "s.e.                 91.4303                 15.9954\n",
       "      windspeed_100m_kmh_santarem  pressure_sl_m_vilareal\n",
       "                           4.1007               -185.0229\n",
       "s.e.                       3.7858                 40.5339\n",
       "      temperature_c_vilareal  windspeed_100m_kmh_vilareal  smoothed_capacity\n",
       "                    -64.8038                      58.9840             0.2239\n",
       "s.e.                  8.6065                       2.2978             0.0471\n",
       "\n",
       "sigma^2 = 49712:  log likelihood = -18673.46\n",
       "AIC=37412.91   AICc=37413.74   BIC=37608.11"
      ]
     },
     "metadata": {},
     "output_type": "display_data"
    }
   ],
   "source": [
    "# Model estimation\n",
    "sarima <- auto.arima(y_ts_train, trace=T, seasonal = T, xreg=X_ts_train, ic=\"aic\", stepwise=T,  allowmean = T, allowdrift=T, test=\"adf\")\n",
    "sarima"
   ]
  },
  {
   "cell_type": "code",
   "execution_count": 5,
   "id": "91216ce4-d284-4f5a-bbee-20978be1edb5",
   "metadata": {},
   "outputs": [
    {
     "data": {
      "text/html": [
       "<table class=\"dataframe\">\n",
       "<caption>A matrix: 32 × 1 of type dbl</caption>\n",
       "<tbody>\n",
       "\t<tr><th scope=row>ar1</th><td>    1.2620747</td></tr>\n",
       "\t<tr><th scope=row>ar2</th><td>   -0.2809376</td></tr>\n",
       "\t<tr><th scope=row>ma1</th><td>   -0.9431261</td></tr>\n",
       "\t<tr><th scope=row>intercept</th><td>-5911.2629108</td></tr>\n",
       "\t<tr><th scope=row>pressure_sl_m_castelobranco</th><td> -193.6471207</td></tr>\n",
       "\t<tr><th scope=row>temperature_c_castelobranco</th><td>  -54.0329639</td></tr>\n",
       "\t<tr><th scope=row>windspeed_100m_kmh_castelobranco</th><td>    6.8079733</td></tr>\n",
       "\t<tr><th scope=row>pressure_sl_m_evora</th><td>   92.8578262</td></tr>\n",
       "\t<tr><th scope=row>temperature_c_evora</th><td>   -0.2847085</td></tr>\n",
       "\t<tr><th scope=row>windspeed_100m_kmh_evora</th><td>    3.3097960</td></tr>\n",
       "\t<tr><th scope=row>pressure_sl_m_faro</th><td>  -14.9836132</td></tr>\n",
       "\t<tr><th scope=row>temperature_c_faro</th><td>  -24.5047418</td></tr>\n",
       "\t<tr><th scope=row>windspeed_100m_kmh_faro</th><td>   11.4233909</td></tr>\n",
       "\t<tr><th scope=row>pressure_sl_m_guarda</th><td>  166.9410987</td></tr>\n",
       "\t<tr><th scope=row>temperature_c_guarda</th><td>   76.3455766</td></tr>\n",
       "\t<tr><th scope=row>windspeed_100m_kmh_guarda</th><td>   36.3684869</td></tr>\n",
       "\t<tr><th scope=row>pressure_sl_m_leiria</th><td>   77.3874915</td></tr>\n",
       "\t<tr><th scope=row>temperature_c_leiria</th><td>    4.7676715</td></tr>\n",
       "\t<tr><th scope=row>windspeed_100m_kmh_leiria</th><td>   29.0251374</td></tr>\n",
       "\t<tr><th scope=row>pressure_sl_m_lisbona</th><td> -169.0452195</td></tr>\n",
       "\t<tr><th scope=row>temperature_c_lisbona</th><td>   -1.5353000</td></tr>\n",
       "\t<tr><th scope=row>windspeed_100m_kmh_lisbona</th><td>   -5.2513391</td></tr>\n",
       "\t<tr><th scope=row>pressure_sl_m_porto</th><td>   58.7729470</td></tr>\n",
       "\t<tr><th scope=row>temperature_c_porto</th><td>   60.5074906</td></tr>\n",
       "\t<tr><th scope=row>windspeed_100m_kmh_porto</th><td>    1.4551593</td></tr>\n",
       "\t<tr><th scope=row>pressure_sl_m_santarem</th><td>  170.7448615</td></tr>\n",
       "\t<tr><th scope=row>temperature_c_santarem</th><td>    2.7599360</td></tr>\n",
       "\t<tr><th scope=row>windspeed_100m_kmh_santarem</th><td>    4.1006717</td></tr>\n",
       "\t<tr><th scope=row>pressure_sl_m_vilareal</th><td> -185.0228713</td></tr>\n",
       "\t<tr><th scope=row>temperature_c_vilareal</th><td>  -64.8037665</td></tr>\n",
       "\t<tr><th scope=row>windspeed_100m_kmh_vilareal</th><td>   58.9840394</td></tr>\n",
       "\t<tr><th scope=row>smoothed_capacity</th><td>    0.2239251</td></tr>\n",
       "</tbody>\n",
       "</table>\n"
      ],
      "text/latex": [
       "A matrix: 32 × 1 of type dbl\n",
       "\\begin{tabular}{r|l}\n",
       "\tar1 &     1.2620747\\\\\n",
       "\tar2 &    -0.2809376\\\\\n",
       "\tma1 &    -0.9431261\\\\\n",
       "\tintercept & -5911.2629108\\\\\n",
       "\tpressure\\_sl\\_m\\_castelobranco &  -193.6471207\\\\\n",
       "\ttemperature\\_c\\_castelobranco &   -54.0329639\\\\\n",
       "\twindspeed\\_100m\\_kmh\\_castelobranco &     6.8079733\\\\\n",
       "\tpressure\\_sl\\_m\\_evora &    92.8578262\\\\\n",
       "\ttemperature\\_c\\_evora &    -0.2847085\\\\\n",
       "\twindspeed\\_100m\\_kmh\\_evora &     3.3097960\\\\\n",
       "\tpressure\\_sl\\_m\\_faro &   -14.9836132\\\\\n",
       "\ttemperature\\_c\\_faro &   -24.5047418\\\\\n",
       "\twindspeed\\_100m\\_kmh\\_faro &    11.4233909\\\\\n",
       "\tpressure\\_sl\\_m\\_guarda &   166.9410987\\\\\n",
       "\ttemperature\\_c\\_guarda &    76.3455766\\\\\n",
       "\twindspeed\\_100m\\_kmh\\_guarda &    36.3684869\\\\\n",
       "\tpressure\\_sl\\_m\\_leiria &    77.3874915\\\\\n",
       "\ttemperature\\_c\\_leiria &     4.7676715\\\\\n",
       "\twindspeed\\_100m\\_kmh\\_leiria &    29.0251374\\\\\n",
       "\tpressure\\_sl\\_m\\_lisbona &  -169.0452195\\\\\n",
       "\ttemperature\\_c\\_lisbona &    -1.5353000\\\\\n",
       "\twindspeed\\_100m\\_kmh\\_lisbona &    -5.2513391\\\\\n",
       "\tpressure\\_sl\\_m\\_porto &    58.7729470\\\\\n",
       "\ttemperature\\_c\\_porto &    60.5074906\\\\\n",
       "\twindspeed\\_100m\\_kmh\\_porto &     1.4551593\\\\\n",
       "\tpressure\\_sl\\_m\\_santarem &   170.7448615\\\\\n",
       "\ttemperature\\_c\\_santarem &     2.7599360\\\\\n",
       "\twindspeed\\_100m\\_kmh\\_santarem &     4.1006717\\\\\n",
       "\tpressure\\_sl\\_m\\_vilareal &  -185.0228713\\\\\n",
       "\ttemperature\\_c\\_vilareal &   -64.8037665\\\\\n",
       "\twindspeed\\_100m\\_kmh\\_vilareal &    58.9840394\\\\\n",
       "\tsmoothed\\_capacity &     0.2239251\\\\\n",
       "\\end{tabular}\n"
      ],
      "text/markdown": [
       "\n",
       "A matrix: 32 × 1 of type dbl\n",
       "\n",
       "| ar1 |     1.2620747 |\n",
       "| ar2 |    -0.2809376 |\n",
       "| ma1 |    -0.9431261 |\n",
       "| intercept | -5911.2629108 |\n",
       "| pressure_sl_m_castelobranco |  -193.6471207 |\n",
       "| temperature_c_castelobranco |   -54.0329639 |\n",
       "| windspeed_100m_kmh_castelobranco |     6.8079733 |\n",
       "| pressure_sl_m_evora |    92.8578262 |\n",
       "| temperature_c_evora |    -0.2847085 |\n",
       "| windspeed_100m_kmh_evora |     3.3097960 |\n",
       "| pressure_sl_m_faro |   -14.9836132 |\n",
       "| temperature_c_faro |   -24.5047418 |\n",
       "| windspeed_100m_kmh_faro |    11.4233909 |\n",
       "| pressure_sl_m_guarda |   166.9410987 |\n",
       "| temperature_c_guarda |    76.3455766 |\n",
       "| windspeed_100m_kmh_guarda |    36.3684869 |\n",
       "| pressure_sl_m_leiria |    77.3874915 |\n",
       "| temperature_c_leiria |     4.7676715 |\n",
       "| windspeed_100m_kmh_leiria |    29.0251374 |\n",
       "| pressure_sl_m_lisbona |  -169.0452195 |\n",
       "| temperature_c_lisbona |    -1.5353000 |\n",
       "| windspeed_100m_kmh_lisbona |    -5.2513391 |\n",
       "| pressure_sl_m_porto |    58.7729470 |\n",
       "| temperature_c_porto |    60.5074906 |\n",
       "| windspeed_100m_kmh_porto |     1.4551593 |\n",
       "| pressure_sl_m_santarem |   170.7448615 |\n",
       "| temperature_c_santarem |     2.7599360 |\n",
       "| windspeed_100m_kmh_santarem |     4.1006717 |\n",
       "| pressure_sl_m_vilareal |  -185.0228713 |\n",
       "| temperature_c_vilareal |   -64.8037665 |\n",
       "| windspeed_100m_kmh_vilareal |    58.9840394 |\n",
       "| smoothed_capacity |     0.2239251 |\n",
       "\n"
      ],
      "text/plain": [
       "                                 [,1]         \n",
       "ar1                                  1.2620747\n",
       "ar2                                 -0.2809376\n",
       "ma1                                 -0.9431261\n",
       "intercept                        -5911.2629108\n",
       "pressure_sl_m_castelobranco       -193.6471207\n",
       "temperature_c_castelobranco        -54.0329639\n",
       "windspeed_100m_kmh_castelobranco     6.8079733\n",
       "pressure_sl_m_evora                 92.8578262\n",
       "temperature_c_evora                 -0.2847085\n",
       "windspeed_100m_kmh_evora             3.3097960\n",
       "pressure_sl_m_faro                 -14.9836132\n",
       "temperature_c_faro                 -24.5047418\n",
       "windspeed_100m_kmh_faro             11.4233909\n",
       "pressure_sl_m_guarda               166.9410987\n",
       "temperature_c_guarda                76.3455766\n",
       "windspeed_100m_kmh_guarda           36.3684869\n",
       "pressure_sl_m_leiria                77.3874915\n",
       "temperature_c_leiria                 4.7676715\n",
       "windspeed_100m_kmh_leiria           29.0251374\n",
       "pressure_sl_m_lisbona             -169.0452195\n",
       "temperature_c_lisbona               -1.5353000\n",
       "windspeed_100m_kmh_lisbona          -5.2513391\n",
       "pressure_sl_m_porto                 58.7729470\n",
       "temperature_c_porto                 60.5074906\n",
       "windspeed_100m_kmh_porto             1.4551593\n",
       "pressure_sl_m_santarem             170.7448615\n",
       "temperature_c_santarem               2.7599360\n",
       "windspeed_100m_kmh_santarem          4.1006717\n",
       "pressure_sl_m_vilareal            -185.0228713\n",
       "temperature_c_vilareal             -64.8037665\n",
       "windspeed_100m_kmh_vilareal         58.9840394\n",
       "smoothed_capacity                    0.2239251"
      ]
     },
     "metadata": {},
     "output_type": "display_data"
    }
   ],
   "source": [
    "# Coefficients\n",
    "as.matrix(sarima$coef)"
   ]
  },
  {
   "cell_type": "code",
   "execution_count": 6,
   "id": "4d4693b3-1f4c-4caa-af0b-9bbab5bac60a",
   "metadata": {},
   "outputs": [
    {
     "data": {
      "image/png": "[encoded data removed]",
      "text/plain": [
       "plot without title"
      ]
     },
     "metadata": {
      "image/png": {
       "height": 420,
       "width": 420
      }
     },
     "output_type": "display_data"
    },
    {
     "data": {
      "image/png": "[encoded data removed]",
      "text/plain": [
       "plot without title"
      ]
     },
     "metadata": {
      "image/png": {
       "height": 420,
       "width": 420
      }
     },
     "output_type": "display_data"
    }
   ],
   "source": [
    "# Residuals Analysis\n",
    "sarima_fit <- as.data.frame(sarima$fitted)\n",
    "sarima_fit$date <- as.Date(train$date)\n",
    "sarima_fit$actual <- train$wind_prod\n",
    "colnames(sarima_fit)<-c(\"fitted\", \"date\", \"actual\")\n",
    "\n",
    "sarima_fit$residuals <- sarima_fit$actual - sarima_fit$fitted\n",
    "\n",
    "acf1 <- Acf(sarima_fit$residuals, 365, plot = FALSE)\n",
    "plotacf1 <- with(acf1, data.frame(lag, acf))\n",
    "pacf1 <- Pacf(sarima_fit$residuals, 365, plot = FALSE)\n",
    "plotpacf1 <- with(pacf1, data.frame(lag, acf))\n",
    "\n",
    "lim1<-(qnorm((1 + (1 - 0.05))/2)/sqrt(2738))\n",
    "lim2<--lim1\n",
    "\n",
    "ggplot(data = plotacf1, mapping = aes(x = lag, y = acf)) +\n",
    "    geom_hline(aes(yintercept = 0)) +\n",
    "    geom_segment(mapping = aes(xend = lag, yend = 0))+\n",
    "    geom_hline(aes(yintercept = lim1), linetype = 2, color = 'orangered3')+\n",
    "    geom_hline(aes(yintercept = lim2), linetype = 2, color = 'orangered3')+\n",
    "    labs(title=\"\", y=\"ACF\")\n",
    "\n",
    "ggplot(data = plotpacf1, mapping = aes(x = lag, y = acf)) +\n",
    "    geom_hline(aes(yintercept = 0)) +\n",
    "    geom_segment(mapping = aes(xend = lag, yend = 0))+\n",
    "    geom_hline(aes(yintercept = lim1), linetype = 2, color = 'orangered3')+\n",
    "    geom_hline(aes(yintercept = lim2), linetype = 2, color = 'orangered3')+\n",
    "    labs(title=\"\", y=\"PACF\")"
   ]
  },
  {
   "cell_type": "code",
   "execution_count": 7,
   "id": "edd2b87a-2857-4756-9129-8b8340cc9a09",
   "metadata": {},
   "outputs": [
    {
     "data": {
      "image/png": "[encoded data removed]",
      "text/plain": [
       "plot without title"
      ]
     },
     "metadata": {
      "image/png": {
       "height": 420,
       "width": 420
      }
     },
     "output_type": "display_data"
    }
   ],
   "source": [
    "# Predictions\n",
    "test <- read.csv(file.path(dirname(folder), \"data/testing.csv\"))\n",
    "\n",
    "y_ts_test <- ts(test$wind_prod, start=c(2022,7,1), frequency=365.25)\n",
    "X_ts_test <- ts(test[, c(3:30)], start=c(2022,7,1), frequency = 365.25)\n",
    "\n",
    "sarima_pred <- forecast(sarima, h = 184, xreg = X_ts_test, level=95)\n",
    "sarima_df <- cbind(sarima_pred$mean, test$wind_prod)\n",
    "sarima_df <- as.data.frame(sarima_df)\n",
    "colnames(sarima_df)<-c(\"Predicted\", \"Observed\")\n",
    "sarima_df$date<-as.Date(test$date)\n",
    "\n",
    "ggplot(sarima_df, aes(x=date,y=Observed))+\n",
    "    geom_line(aes(x=date,y=Observed, color=\"Observed\")) +\n",
    "    geom_line(aes(x=date, y=Predicted, color=\"Predicted\")) +\n",
    "    labs(color=\"\", x=\"Date\", y=\"Production Power (MW)\")+\n",
    "    scale_colour_manual(values=c(\"Observed\"=\"orangered3\", \"Predicted\"=\"cyan4\"))+\n",
    "    theme(legend.position = \"top\")"
   ]
  },
  {
   "cell_type": "code",
   "execution_count": 8,
   "id": "880f894c-dbea-499b-9b09-9aa7eb2d3765",
   "metadata": {},
   "outputs": [],
   "source": [
    "# Save predictions\n",
    "dir.create(file.path(folder, \"predictions\"))\n",
    "write.csv(sarima_df, file=file.path(folder, \"predictions/sarima_predictions.csv\"), row.names = FALSE)"
   ]
  }
 ],
 "metadata": {
  "kernelspec": {
   "display_name": "R",
   "language": "R",
   "name": "ir"
  },
  "language_info": {
   "codemirror_mode": "r",
   "file_extension": ".r",
   "mimetype": "text/x-r-source",
   "name": "R",
   "pygments_lexer": "r",
   "version": "4.2.1"
  }
 },
 "nbformat": 4,
 "nbformat_minor": 5
}
