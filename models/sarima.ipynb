{
 "cells": [
  {
   "cell_type": "markdown",
   "id": "b1ed5141-c665-440e-835e-2924409bd906",
   "metadata": {},
   "source": [
    "# SARIMA Model"
   ]
  },
  {
   "cell_type": "code",
   "execution_count": 1,
   "id": "ed38385d-b923-4ed5-916c-5d443f6fdbbe",
   "metadata": {},
   "outputs": [],
   "source": [
    "rm(list=ls())"
   ]
  },
  {
   "cell_type": "code",
   "execution_count": 2,
   "id": "ba7cacac-c307-486f-b2e4-4912e3763ba6",
   "metadata": {},
   "outputs": [
    {
     "name": "stderr",
     "output_type": "stream",
     "text": [
      "Warning message:\n",
      "\"package 'forecast' was built under R version 4.2.2\"\n",
      "Registered S3 method overwritten by 'quantmod':\n",
      "  method            from\n",
      "  as.zoo.data.frame zoo \n",
      "\n"
     ]
    }
   ],
   "source": [
    "library(forecast)\n",
    "library(ggplot2)"
   ]
  },
  {
   "cell_type": "code",
   "execution_count": 3,
   "id": "b8a20833-546e-4d50-8d4b-4427f049a924",
   "metadata": {},
   "outputs": [],
   "source": [
    "folder <- getwd()\n",
    "train <- read.csv(file.path(dirname(folder), \"data/training.csv\"))\n",
    "\n",
    "y_ts_train <- ts(train$wind_prod, start=c(2015,1,1), frequency=365.25)\n",
    "X_ts_train <- ts(train[, c(3:30)], start=c(2015,1,1), frequency = 365.25)"
   ]
  },
  {
   "cell_type": "code",
   "execution_count": 4,
   "id": "1ff76689-2bfc-4f20-a7fe-4fad7285800d",
   "metadata": {},
   "outputs": [
    {
     "name": "stdout",
     "output_type": "stream",
     "text": [
      "\n",
      " Fitting models using approximations to speed things up...\n",
      "\n",
      " ARIMA(2,0,2)(1,0,1)[365.25] with non-zero mean : Inf\n",
      " Regression with ARIMA(0,0,0)             errors : 37751.24\n",
      " ARIMA(1,0,0)(1,0,0)[365.25] with non-zero mean : Inf\n",
      " ARIMA(0,0,1)(0,0,1)[365.25] with non-zero mean : Inf\n",
      " Regression with ARIMA(0,0,0)             errors : 37781.69\n",
      " ARIMA(0,0,0)(1,0,0)[365.25] with non-zero mean : Inf\n",
      " ARIMA(0,0,0)(0,0,1)[365.25] with non-zero mean : Inf\n",
      " ARIMA(0,0,0)(1,0,1)[365.25] with non-zero mean : Inf\n",
      " Regression with ARIMA(1,0,0)             errors : 37439.7\n",
      " ARIMA(1,0,0)(0,0,1)[365.25] with non-zero mean : Inf\n",
      " ARIMA(1,0,0)(1,0,1)[365.25] with non-zero mean : Inf\n",
      " Regression with ARIMA(2,0,0)             errors : 37440.55\n",
      " Regression with ARIMA(1,0,1)             errors : 37438.97\n",
      " ARIMA(1,0,1)(1,0,0)[365.25] with non-zero mean : Inf\n",
      " ARIMA(1,0,1)(0,0,1)[365.25] with non-zero mean : Inf\n",
      " ARIMA(1,0,1)(1,0,1)[365.25] with non-zero mean : Inf\n",
      " Regression with ARIMA(0,0,1)             errors : 37481.02\n",
      " Regression with ARIMA(2,0,1)             errors : 37414.44\n",
      " ARIMA(2,0,1)(1,0,0)[365.25] with non-zero mean : Inf\n",
      " ARIMA(2,0,1)(0,0,1)[365.25] with non-zero mean : Inf\n",
      " ARIMA(2,0,1)(1,0,1)[365.25] with non-zero mean : Inf\n",
      " Regression with ARIMA(3,0,1)             errors : 37417.34\n",
      " Regression with ARIMA(2,0,2)             errors : 37415.9\n",
      " Regression with ARIMA(1,0,2)             errors : 37422.98\n",
      " Regression with ARIMA(3,0,0)             errors : 37439.32\n",
      " Regression with ARIMA(3,0,2)             errors : 37419\n",
      " Regression with ARIMA(2,0,1)             errors : 37430.5\n",
      "\n",
      " Now re-fitting the best model(s) without approximations...\n",
      "\n",
      " Regression with ARIMA(2,0,1)             errors : 37412.91\n",
      "\n",
      " Best model: Regression with ARIMA(2,0,1)             errors \n",
      "\n"
     ]
    },
    {
     "data": {
      "text/plain": [
       "Series: y_ts_train \n",
       "Regression with ARIMA(2,0,1) errors \n",
       "\n",
       "Coefficients:\n",
       "         ar1      ar2      ma1  intercept  temperature_c_castelobranco\n",
       "      1.2621  -0.2809  -0.9431  -5911.263                    -193.6471\n",
       "s.e.  0.0262   0.0219   0.0164   1418.088                      33.1079\n",
       "      pressure_msl_castelobranco  windspeed_100m_castelobranco\n",
       "                        -54.0330                        6.8080\n",
       "s.e.                     12.2655                        2.0551\n",
       "      temperature_c_evora  pressure_msl_evora  windspeed_100m_evora\n",
       "                  92.8578             -0.2847                3.3098\n",
       "s.e.              45.0696             12.5599                2.5399\n",
       "      temperature_c_faro  pressure_msl_faro  windspeed_100m_faro\n",
       "                -14.9836           -24.5047              11.4234\n",
       "s.e.             20.5894             6.8298               1.2692\n",
       "      temperature_c_guarda  pressure_msl_guarda  windspeed_100m_guarda\n",
       "                  166.9411              76.3456                36.3685\n",
       "s.e.               26.5825              11.1162                 1.6400\n",
       "      temperature_c_leiria  pressure_msl_leiria  windspeed_100m_leiria\n",
       "                   77.3875               4.7677                29.0251\n",
       "s.e.               61.6026              12.7821                 2.5659\n",
       "      temperature_c_lisbona  pressure_msl_lisbona  windspeed_100m_lisbona\n",
       "                  -169.0452               -1.5353                 -5.2513\n",
       "s.e.                44.2345               12.6259                  1.9111\n",
       "      temperature_c_porto  pressure_msl_porto  windspeed_100m_porto\n",
       "                  58.7729             60.5075                1.4552\n",
       "s.e.              37.9584              9.4595                1.7226\n",
       "      temperature_c_santarem  pressure_msl_santarem  windspeed_100m_santarem\n",
       "                    170.7449                 2.7599                   4.1007\n",
       "s.e.                 91.4303                15.9954                   3.7858\n",
       "      temperature_c_vilareal  pressure_msl_vilareal  windspeed_100m_vilareal\n",
       "                   -185.0229               -64.8038                  58.9840\n",
       "s.e.                 40.5339                 8.6065                   2.2978\n",
       "      smoothed_capacity\n",
       "                 0.2239\n",
       "s.e.             0.0471\n",
       "\n",
       "sigma^2 = 49712:  log likelihood = -18673.46\n",
       "AIC=37412.91   AICc=37413.74   BIC=37608.11"
      ]
     },
     "metadata": {},
     "output_type": "display_data"
    }
   ],
   "source": [
    "# Model estimation\n",
    "sarima <- auto.arima(y_ts_train, trace=T, seasonal = T, xreg=X_ts_train, ic=\"aic\", stepwise=T,  allowmean = T, allowdrift=T, test=\"adf\")\n",
    "sarima"
   ]
  },
  {
   "cell_type": "code",
   "execution_count": 5,
   "id": "91216ce4-d284-4f5a-bbee-20978be1edb5",
   "metadata": {},
   "outputs": [
    {
     "data": {
      "text/html": [
       "<table class=\"dataframe\">\n",
       "<caption>A matrix: 32 × 1 of type dbl</caption>\n",
       "<tbody>\n",
       "\t<tr><th scope=row>ar1</th><td>    1.2620747</td></tr>\n",
       "\t<tr><th scope=row>ar2</th><td>   -0.2809376</td></tr>\n",
       "\t<tr><th scope=row>ma1</th><td>   -0.9431261</td></tr>\n",
       "\t<tr><th scope=row>intercept</th><td>-5911.2629108</td></tr>\n",
       "\t<tr><th scope=row>temperature_c_castelobranco</th><td> -193.6471207</td></tr>\n",
       "\t<tr><th scope=row>pressure_msl_castelobranco</th><td>  -54.0329639</td></tr>\n",
       "\t<tr><th scope=row>windspeed_100m_castelobranco</th><td>    6.8079733</td></tr>\n",
       "\t<tr><th scope=row>temperature_c_evora</th><td>   92.8578262</td></tr>\n",
       "\t<tr><th scope=row>pressure_msl_evora</th><td>   -0.2847085</td></tr>\n",
       "\t<tr><th scope=row>windspeed_100m_evora</th><td>    3.3097960</td></tr>\n",
       "\t<tr><th scope=row>temperature_c_faro</th><td>  -14.9836132</td></tr>\n",
       "\t<tr><th scope=row>pressure_msl_faro</th><td>  -24.5047418</td></tr>\n",
       "\t<tr><th scope=row>windspeed_100m_faro</th><td>   11.4233909</td></tr>\n",
       "\t<tr><th scope=row>temperature_c_guarda</th><td>  166.9410987</td></tr>\n",
       "\t<tr><th scope=row>pressure_msl_guarda</th><td>   76.3455766</td></tr>\n",
       "\t<tr><th scope=row>windspeed_100m_guarda</th><td>   36.3684869</td></tr>\n",
       "\t<tr><th scope=row>temperature_c_leiria</th><td>   77.3874915</td></tr>\n",
       "\t<tr><th scope=row>pressure_msl_leiria</th><td>    4.7676715</td></tr>\n",
       "\t<tr><th scope=row>windspeed_100m_leiria</th><td>   29.0251374</td></tr>\n",
       "\t<tr><th scope=row>temperature_c_lisbona</th><td> -169.0452195</td></tr>\n",
       "\t<tr><th scope=row>pressure_msl_lisbona</th><td>   -1.5353000</td></tr>\n",
       "\t<tr><th scope=row>windspeed_100m_lisbona</th><td>   -5.2513391</td></tr>\n",
       "\t<tr><th scope=row>temperature_c_porto</th><td>   58.7729470</td></tr>\n",
       "\t<tr><th scope=row>pressure_msl_porto</th><td>   60.5074906</td></tr>\n",
       "\t<tr><th scope=row>windspeed_100m_porto</th><td>    1.4551593</td></tr>\n",
       "\t<tr><th scope=row>temperature_c_santarem</th><td>  170.7448615</td></tr>\n",
       "\t<tr><th scope=row>pressure_msl_santarem</th><td>    2.7599360</td></tr>\n",
       "\t<tr><th scope=row>windspeed_100m_santarem</th><td>    4.1006717</td></tr>\n",
       "\t<tr><th scope=row>temperature_c_vilareal</th><td> -185.0228713</td></tr>\n",
       "\t<tr><th scope=row>pressure_msl_vilareal</th><td>  -64.8037665</td></tr>\n",
       "\t<tr><th scope=row>windspeed_100m_vilareal</th><td>   58.9840394</td></tr>\n",
       "\t<tr><th scope=row>smoothed_capacity</th><td>    0.2239251</td></tr>\n",
       "</tbody>\n",
       "</table>\n"
      ],
      "text/latex": [
       "A matrix: 32 × 1 of type dbl\n",
       "\\begin{tabular}{r|l}\n",
       "\tar1 &     1.2620747\\\\\n",
       "\tar2 &    -0.2809376\\\\\n",
       "\tma1 &    -0.9431261\\\\\n",
       "\tintercept & -5911.2629108\\\\\n",
       "\ttemperature\\_c\\_castelobranco &  -193.6471207\\\\\n",
       "\tpressure\\_msl\\_castelobranco &   -54.0329639\\\\\n",
       "\twindspeed\\_100m\\_castelobranco &     6.8079733\\\\\n",
       "\ttemperature\\_c\\_evora &    92.8578262\\\\\n",
       "\tpressure\\_msl\\_evora &    -0.2847085\\\\\n",
       "\twindspeed\\_100m\\_evora &     3.3097960\\\\\n",
       "\ttemperature\\_c\\_faro &   -14.9836132\\\\\n",
       "\tpressure\\_msl\\_faro &   -24.5047418\\\\\n",
       "\twindspeed\\_100m\\_faro &    11.4233909\\\\\n",
       "\ttemperature\\_c\\_guarda &   166.9410987\\\\\n",
       "\tpressure\\_msl\\_guarda &    76.3455766\\\\\n",
       "\twindspeed\\_100m\\_guarda &    36.3684869\\\\\n",
       "\ttemperature\\_c\\_leiria &    77.3874915\\\\\n",
       "\tpressure\\_msl\\_leiria &     4.7676715\\\\\n",
       "\twindspeed\\_100m\\_leiria &    29.0251374\\\\\n",
       "\ttemperature\\_c\\_lisbona &  -169.0452195\\\\\n",
       "\tpressure\\_msl\\_lisbona &    -1.5353000\\\\\n",
       "\twindspeed\\_100m\\_lisbona &    -5.2513391\\\\\n",
       "\ttemperature\\_c\\_porto &    58.7729470\\\\\n",
       "\tpressure\\_msl\\_porto &    60.5074906\\\\\n",
       "\twindspeed\\_100m\\_porto &     1.4551593\\\\\n",
       "\ttemperature\\_c\\_santarem &   170.7448615\\\\\n",
       "\tpressure\\_msl\\_santarem &     2.7599360\\\\\n",
       "\twindspeed\\_100m\\_santarem &     4.1006717\\\\\n",
       "\ttemperature\\_c\\_vilareal &  -185.0228713\\\\\n",
       "\tpressure\\_msl\\_vilareal &   -64.8037665\\\\\n",
       "\twindspeed\\_100m\\_vilareal &    58.9840394\\\\\n",
       "\tsmoothed\\_capacity &     0.2239251\\\\\n",
       "\\end{tabular}\n"
      ],
      "text/markdown": [
       "\n",
       "A matrix: 32 × 1 of type dbl\n",
       "\n",
       "| ar1 |     1.2620747 |\n",
       "| ar2 |    -0.2809376 |\n",
       "| ma1 |    -0.9431261 |\n",
       "| intercept | -5911.2629108 |\n",
       "| temperature_c_castelobranco |  -193.6471207 |\n",
       "| pressure_msl_castelobranco |   -54.0329639 |\n",
       "| windspeed_100m_castelobranco |     6.8079733 |\n",
       "| temperature_c_evora |    92.8578262 |\n",
       "| pressure_msl_evora |    -0.2847085 |\n",
       "| windspeed_100m_evora |     3.3097960 |\n",
       "| temperature_c_faro |   -14.9836132 |\n",
       "| pressure_msl_faro |   -24.5047418 |\n",
       "| windspeed_100m_faro |    11.4233909 |\n",
       "| temperature_c_guarda |   166.9410987 |\n",
       "| pressure_msl_guarda |    76.3455766 |\n",
       "| windspeed_100m_guarda |    36.3684869 |\n",
       "| temperature_c_leiria |    77.3874915 |\n",
       "| pressure_msl_leiria |     4.7676715 |\n",
       "| windspeed_100m_leiria |    29.0251374 |\n",
       "| temperature_c_lisbona |  -169.0452195 |\n",
       "| pressure_msl_lisbona |    -1.5353000 |\n",
       "| windspeed_100m_lisbona |    -5.2513391 |\n",
       "| temperature_c_porto |    58.7729470 |\n",
       "| pressure_msl_porto |    60.5074906 |\n",
       "| windspeed_100m_porto |     1.4551593 |\n",
       "| temperature_c_santarem |   170.7448615 |\n",
       "| pressure_msl_santarem |     2.7599360 |\n",
       "| windspeed_100m_santarem |     4.1006717 |\n",
       "| temperature_c_vilareal |  -185.0228713 |\n",
       "| pressure_msl_vilareal |   -64.8037665 |\n",
       "| windspeed_100m_vilareal |    58.9840394 |\n",
       "| smoothed_capacity |     0.2239251 |\n",
       "\n"
      ],
      "text/plain": [
       "                             [,1]         \n",
       "ar1                              1.2620747\n",
       "ar2                             -0.2809376\n",
       "ma1                             -0.9431261\n",
       "intercept                    -5911.2629108\n",
       "temperature_c_castelobranco   -193.6471207\n",
       "pressure_msl_castelobranco     -54.0329639\n",
       "windspeed_100m_castelobranco     6.8079733\n",
       "temperature_c_evora             92.8578262\n",
       "pressure_msl_evora              -0.2847085\n",
       "windspeed_100m_evora             3.3097960\n",
       "temperature_c_faro             -14.9836132\n",
       "pressure_msl_faro              -24.5047418\n",
       "windspeed_100m_faro             11.4233909\n",
       "temperature_c_guarda           166.9410987\n",
       "pressure_msl_guarda             76.3455766\n",
       "windspeed_100m_guarda           36.3684869\n",
       "temperature_c_leiria            77.3874915\n",
       "pressure_msl_leiria              4.7676715\n",
       "windspeed_100m_leiria           29.0251374\n",
       "temperature_c_lisbona         -169.0452195\n",
       "pressure_msl_lisbona            -1.5353000\n",
       "windspeed_100m_lisbona          -5.2513391\n",
       "temperature_c_porto             58.7729470\n",
       "pressure_msl_porto              60.5074906\n",
       "windspeed_100m_porto             1.4551593\n",
       "temperature_c_santarem         170.7448615\n",
       "pressure_msl_santarem            2.7599360\n",
       "windspeed_100m_santarem          4.1006717\n",
       "temperature_c_vilareal        -185.0228713\n",
       "pressure_msl_vilareal          -64.8037665\n",
       "windspeed_100m_vilareal         58.9840394\n",
       "smoothed_capacity                0.2239251"
      ]
     },
     "metadata": {},
     "output_type": "display_data"
    }
   ],
   "source": [
    "# Coefficients\n",
    "as.matrix(sarima$coef)"
   ]
  },
  {
   "cell_type": "code",
   "execution_count": 6,
   "id": "4d4693b3-1f4c-4caa-af0b-9bbab5bac60a",
   "metadata": {},
   "outputs": [
    {
     "data": {
      "image/png": "[encoded data removed]",
      "text/plain": [
       "plot without title"
      ]
     },
     "metadata": {
      "image/png": {
       "height": 420,
       "width": 420
      }
     },
     "output_type": "display_data"
    },
    {
     "data": {
      "image/png": "[encoded data removed]",
      "text/plain": [
       "plot without title"
      ]
     },
     "metadata": {
      "image/png": {
       "height": 420,
       "width": 420
      }
     },
     "output_type": "display_data"
    }
   ],
   "source": [
    "# Residuals Analysis\n",
    "sarima_fit <- as.data.frame(sarima$fitted)\n",
    "sarima_fit$date <- as.Date(train$date)\n",
    "sarima_fit$actual <- train$wind_prod\n",
    "colnames(sarima_fit)<-c(\"fitted\", \"date\", \"actual\")\n",
    "\n",
    "sarima_fit$residuals <- sarima_fit$actual - sarima_fit$fitted\n",
    "\n",
    "acf1 <- Acf(sarima_fit$residuals, 365, plot = FALSE)\n",
    "plotacf1 <- with(acf1, data.frame(lag, acf))\n",
    "pacf1 <- Pacf(sarima_fit$residuals, 365, plot = FALSE)\n",
    "plotpacf1 <- with(pacf1, data.frame(lag, acf))\n",
    "\n",
    "lim1<-(qnorm((1 + (1 - 0.05))/2)/sqrt(2738))\n",
    "lim2<--lim1\n",
    "\n",
    "ggplot(data = plotacf1, mapping = aes(x = lag, y = acf)) +\n",
    "    geom_hline(aes(yintercept = 0)) +\n",
    "    geom_segment(mapping = aes(xend = lag, yend = 0))+\n",
    "    geom_hline(aes(yintercept = lim1), linetype = 2, color = 'orangered3')+\n",
    "    geom_hline(aes(yintercept = lim2), linetype = 2, color = 'orangered3')+\n",
    "    labs(title=\"\", y=\"ACF\")\n",
    "\n",
    "ggplot(data = plotpacf1, mapping = aes(x = lag, y = acf)) +\n",
    "    geom_hline(aes(yintercept = 0)) +\n",
    "    geom_segment(mapping = aes(xend = lag, yend = 0))+\n",
    "    geom_hline(aes(yintercept = lim1), linetype = 2, color = 'orangered3')+\n",
    "    geom_hline(aes(yintercept = lim2), linetype = 2, color = 'orangered3')+\n",
    "    labs(title=\"\", y=\"PACF\")"
   ]
  },
  {
   "cell_type": "code",
   "execution_count": 7,
   "id": "edd2b87a-2857-4756-9129-8b8340cc9a09",
   "metadata": {},
   "outputs": [
    {
     "data": {
      "image/png": "[encoded data removed]",
      "text/plain": [
       "plot without title"
      ]
     },
     "metadata": {
      "image/png": {
       "height": 420,
       "width": 420
      }
     },
     "output_type": "display_data"
    }
   ],
   "source": [
    "# Predictions\n",
    "test <- read.csv(file.path(dirname(folder), \"data/testing.csv\"))\n",
    "\n",
    "y_ts_test <- ts(test$wind_prod, start=c(2022,7,1), frequency=365.25)\n",
    "X_ts_test <- ts(test[, c(3:30)], start=c(2022,7,1), frequency = 365.25)\n",
    "\n",
    "sarima_pred <- forecast(sarima, h = 184, xreg = X_ts_test, level=95)\n",
    "sarima_df <- cbind(sarima_pred$mean, test$wind_prod)\n",
    "sarima_df <- as.data.frame(sarima_df)\n",
    "colnames(sarima_df)<-c(\"Predicted\", \"Observed\")\n",
    "sarima_df$date<-as.Date(test$date)\n",
    "\n",
    "ggplot(sarima_df, aes(x=date,y=Observed))+\n",
    "    geom_line(aes(x=date,y=Observed, color=\"Observed\")) +\n",
    "    geom_line(aes(x=date, y=Predicted, color=\"Predicted\")) +\n",
    "    labs(color=\"\", x=\"Month\", y=\"Production Power (MW)\")+\n",
    "    scale_colour_manual(values=c(\"Observed\"=\"orangered3\", \"Predicted\"=\"cyan4\"))+\n",
    "    theme(legend.position = \"top\")\n",
    "\n",
    "# Save predictions\n",
    "write.csv(sarima_df, file=file.path(folder, \"predictions/sarima_predictions.csv\"), row.names = FALSE)"
   ]
  }
 ],
 "metadata": {
  "kernelspec": {
   "display_name": "R",
   "language": "R",
   "name": "ir"
  },
  "language_info": {
   "codemirror_mode": "r",
   "file_extension": ".r",
   "mimetype": "text/x-r-source",
   "name": "R",
   "pygments_lexer": "r",
   "version": "4.2.1"
  }
 },
 "nbformat": 4,
 "nbformat_minor": 5
}
