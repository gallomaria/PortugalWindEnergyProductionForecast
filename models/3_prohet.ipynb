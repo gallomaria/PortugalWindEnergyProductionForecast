{
 "cells": [
  {
   "cell_type": "markdown",
   "id": "333e0008-83a8-4241-991e-7beaccb15def",
   "metadata": {},
   "source": [
    "# Prohet"
   ]
  },
  {
   "cell_type": "code",
   "execution_count": 1,
   "id": "325da126-b545-472b-a729-839cb107f581",
   "metadata": {},
   "outputs": [],
   "source": [
    "rm(list = ls())\n",
    "options(warn = -1)"
   ]
  },
  {
   "cell_type": "code",
   "execution_count": 2,
   "id": "d1f16e70-2f7e-4226-a5a2-1b9007e2c62b",
   "metadata": {},
   "outputs": [],
   "source": [
    "suppressMessages(library(prophet))\n",
    "suppressMessages(library(dplyr))\n",
    "suppressMessages(library(ggplot2))"
   ]
  },
  {
   "cell_type": "code",
   "execution_count": 3,
   "id": "593791fe-a91b-46d1-ac91-fe3c6a714bf6",
   "metadata": {},
   "outputs": [],
   "source": [
    "folder <- getwd()\n",
    "train <- read.csv(file.path(dirname(folder), \"data/training.csv\"))"
   ]
  },
  {
   "cell_type": "code",
   "execution_count": 4,
   "id": "ddc4acc1-b274-4474-b004-f2d560d6b9e5",
   "metadata": {},
   "outputs": [],
   "source": [
    "# Data preparation\n",
    "y_train <- train[, c(1,2)]\n",
    "colnames(y_train) <- c(\"ds\", \"y\")\n",
    "\n",
    "# Add regressors - y's lags\n",
    "max_lag <- 30\n",
    "\n",
    "for (i in 1:max_lag) {\n",
    "  name_col <- paste(\"lag_\", i, sep = \"\")\n",
    "  y_train <- y_train %>%\n",
    "    mutate(!!name_col := lag(y, n = i))\n",
    "}\n",
    "\n",
    "# Add weather covariates\n",
    "prophet_train <- cbind(y_train, train[, -c(1,2)])\n",
    "prophet_train <- na.omit(prophet_train)"
   ]
  },
  {
   "cell_type": "code",
   "execution_count": 5,
   "id": "625be3a3-10bc-4453-b273-aa3a30831f06",
   "metadata": {},
   "outputs": [],
   "source": [
    "## CrossValidation to tune change_point_prior_scale, seasonality_prior_scale\n",
    "\n",
    "#cutoffs <- as.Date(c('2020-05-24', '2020-09-25', '2021-01-27', '2021-05-30', '2021-09-30'))\n",
    "#changepoint_prior_scale= c(0.001, 0.01, 0.1, 0.5)\n",
    "#seasonality_prior_scale= c(0.01, 0.1, 1.0, 10, 25,50)\n",
    "\n",
    "#rmses<-matrix(NA,4,6)\n",
    "#colnames(rmses)<-c(paste0( \"season_\", seasonality_prior_scale))\n",
    "#rownames(rmses)<-c(paste0( \"change_\", changepoint_prior_scale))\n",
    "\n",
    "#for(cp in changepoint_prior_scale){\n",
    "#  for(ss in seasonality_prior_scale){\n",
    "#     p0 <- prophet(seasonality.prior.scale = ss, changepoint.prior.scale = cp, daily.seasonality = F)\n",
    "#       for (regressor in colnames(prophet_train[, -c(1, 2)])){\n",
    "#            p0 <- add_regressor(p0, regressor)            \n",
    "#            }\n",
    "#    prophet_cv <- fit.prophet(p0, prophet_train)\n",
    "#    \n",
    "#    # Best 1 step ahead predictions\n",
    "#    cv <- cross_validation(prophet_cv, horizon=230, units=\"days\", cutoffs = cutoffs)\n",
    "#    rmse_cv <- performance_metrics(cv, metrics = \"rmse\")  \n",
    "    \n",
    "#    rmses[paste0( \"change_\", cp), paste0( \"season_\", ss)]<-mean(rmse_cv$rmse)\n",
    "#      }\n",
    "#    }\n",
    "#rmses"
   ]
  },
  {
   "cell_type": "code",
   "execution_count": 6,
   "id": "9af6e2a2-a372-45fe-a486-ea5d6683cbb2",
   "metadata": {},
   "outputs": [],
   "source": [
    "# Best Parameters and Model Estimation\n",
    "# change_point_prior_scale = 0.01, seasonality_prior_scale = 15\n",
    "\n",
    "p0 <- prophet(seasonality.prior.scale = 15, changepoint.prior.scale = 0.01, daily.seasonality = F)\n",
    "for (regressor in colnames(prophet_train[, -c(1,2)])){\n",
    "    p0 <- add_regressor(p0, regressor)\n",
    "    }\n",
    "\n",
    "prophet_model <- fit.prophet(p0, prophet_train)\n",
    "\n",
    "# prophet_model"
   ]
  },
  {
   "cell_type": "code",
   "execution_count": 7,
   "id": "16919487-cf34-4414-bc98-543eb0087802",
   "metadata": {},
   "outputs": [],
   "source": [
    "# Predictions\n",
    "test <- read.csv(file.path(dirname(folder), \"data/testing.csv\"))\n",
    "exp_test <- rbind(tail(train, 30), test)\n",
    "\n",
    "# Prepare data for prediction\n",
    "y_test <- exp_test[, c(1,2)]\n",
    "colnames(y_test) <- c(\"ds\", \"y\")\n",
    "\n",
    "# Add regressors - y's lags\n",
    "max_lag <- 30\n",
    "\n",
    "for (i in 1:max_lag) {\n",
    "  name_col <- paste(\"lag_\", i, sep = \"\")\n",
    "  y_test <- y_test %>%\n",
    "    mutate(!!name_col := lag(y, n = i))\n",
    "}\n",
    "\n",
    "# Add weather covariates\n",
    "prophet_test <- cbind(y_test, exp_test[, -c(1,2)])\n",
    "prophet_test <- na.omit(prophet_test)\n",
    "\n",
    "df_predictions <- data.frame(ds = prophet_test$ds,\n",
    "                             pred=rep(NA, nrow(prophet_test)))\n",
    "\n",
    "prophet_pred <- predict(prophet_model, prophet_test[,-2])\n",
    "prophet_pred <- as.data.frame(cbind(prophet_pred$yhat, prophet_test$y, prophet_test$ds))\n",
    "colnames(prophet_pred) <- c(\"Predicted\", \"Observed\",\"date\")\n",
    "prophet_pred$date <- as.Date(prophet_pred$date, format = \"%Y-%m-%d\")\n",
    "prophet_pred$Predicted <- as.numeric(prophet_pred$Predicted)\n",
    "prophet_pred$Observed <- as.numeric(prophet_pred$Observed)"
   ]
  },
  {
   "cell_type": "code",
   "execution_count": 8,
   "id": "02adc652-b5d8-4968-96ff-bab8c5a21c0e",
   "metadata": {},
   "outputs": [
    {
     "data": {
      "image/png": "[encoded data removed]",
      "text/plain": [
       "plot without title"
      ]
     },
     "metadata": {
      "image/png": {
       "height": 420,
       "width": 420
      }
     },
     "output_type": "display_data"
    }
   ],
   "source": [
    "ggplot(prophet_pred, aes(x=date,y=Observed))+\n",
    "  geom_line(aes(x=date,y=Observed, color=\"Observed\"))+\n",
    "  geom_line(aes(x=date, y=Predicted, color=\"Predicted\"))+\n",
    "  labs(color=\"\", x=\"Date\", y=\"Production Power (MW)\")+\n",
    "  scale_colour_manual(values=c(\"Observed\"=\"orangered3\", \"Predicted\"=\"cyan4\"))+\n",
    "  theme(legend.position = \"top\")"
   ]
  },
  {
   "cell_type": "code",
   "execution_count": 9,
   "id": "caed969c-5876-4f2a-94b3-a2524285840c",
   "metadata": {},
   "outputs": [],
   "source": [
    "# Save predictions\n",
    "write.csv(prophet_pred, file=file.path(folder, \"predictions/prophet_predictions.csv\"), row.names = FALSE)"
   ]
  }
 ],
 "metadata": {
  "kernelspec": {
   "display_name": "R",
   "language": "R",
   "name": "ir"
  },
  "language_info": {
   "codemirror_mode": "r",
   "file_extension": ".r",
   "mimetype": "text/x-r-source",
   "name": "R",
   "pygments_lexer": "r",
   "version": "4.2.1"
  }
 },
 "nbformat": 4,
 "nbformat_minor": 5
}
