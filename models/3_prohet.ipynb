{
 "cells": [
  {
   "cell_type": "markdown",
   "id": "333e0008-83a8-4241-991e-7beaccb15def",
   "metadata": {},
   "source": [
    "# Prohet"
   ]
  },
  {
   "cell_type": "code",
   "execution_count": 3,
   "id": "325da126-b545-472b-a729-839cb107f581",
   "metadata": {},
   "outputs": [],
   "source": [
    "rm(list = ls())\n",
    "options(warn = -1)"
   ]
  },
  {
   "cell_type": "code",
   "execution_count": 4,
   "id": "d1f16e70-2f7e-4226-a5a2-1b9007e2c62b",
   "metadata": {},
   "outputs": [],
   "source": [
    "suppressMessages(library(prophet))\n",
    "suppressMessages(library(dplyr))"
   ]
  },
  {
   "cell_type": "code",
   "execution_count": null,
   "id": "593791fe-a91b-46d1-ac91-fe3c6a714bf6",
   "metadata": {},
   "outputs": [],
   "source": []
  }
 ],
 "metadata": {
  "kernelspec": {
   "display_name": "R",
   "language": "R",
   "name": "ir"
  },
  "language_info": {
   "codemirror_mode": "r",
   "file_extension": ".r",
   "mimetype": "text/x-r-source",
   "name": "R",
   "pygments_lexer": "r",
   "version": "4.2.1"
  }
 },
 "nbformat": 4,
 "nbformat_minor": 5
}
