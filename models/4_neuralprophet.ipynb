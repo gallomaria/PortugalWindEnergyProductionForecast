{
 "cells": [
  {
   "cell_type": "markdown",
   "id": "eefa8519-f423-4a5d-9c61-4c088a7a7f67",
   "metadata": {},
   "source": [
    "# Neural Porphet"
   ]
  },
  {
   "cell_type": "code",
   "execution_count": 1,
   "id": "cadcd511-2627-4597-a565-92724fc45d17",
   "metadata": {},
   "outputs": [
    {
     "name": "stderr",
     "output_type": "stream",
     "text": [
      "Importing plotly failed. Interactive plots will not work.\n",
      "Importing plotly failed. Interactive plots will not work.\n"
     ]
    }
   ],
   "source": [
    "import warnings\n",
    "warnings.filterwarnings(\"ignore\")\n",
    "import pandas as pd\n",
    "import os\n",
    "from sklearn import preprocessing\n",
    "from neuralprophet import NeuralProphet, set_random_seed"
   ]
  },
  {
   "cell_type": "code",
   "execution_count": 4,
   "id": "1c93fcc6-3755-46e0-9037-d7ae654db0ad",
   "metadata": {},
   "outputs": [
    {
     "name": "stdout",
     "output_type": "stream",
     "text": [
      "warnings is not installed.\n",
      "pandas: 2.2.3\n",
      "os is not installed.\n",
      "sklearn is not installed.\n",
      "neuralprophet: 0.8.0\n"
     ]
    }
   ],
   "source": [
    "import pkg_resources\n",
    "\n",
    "libraries = ['warnings', 'pandas', 'os', 'sklearn', 'neuralprophet']\n",
    "\n",
    "\n",
    "# Print version for each library\n",
    "for lib in libraries:\n",
    "    try:\n",
    "        version = pkg_resources.get_distribution(lib).version\n",
    "        print(f\"{lib}: {version}\")\n",
    "    except pkg_resources.DistributionNotFound:\n",
    "        print(f\"{lib} is not installed.\")\n"
   ]
  },
  {
   "cell_type": "code",
   "execution_count": 2,
   "id": "7afd1a93-fb7e-4bc8-a593-e9366d4bca54",
   "metadata": {},
   "outputs": [],
   "source": [
    "folder = os.getcwd()\n",
    "train = pd.read_csv(os.path.join(os.path.dirname(folder), \"data/training.csv\"))\n",
    "test = pd.read_csv(os.path.join(os.path.dirname(folder), \"data/testing.csv\"))"
   ]
  },
  {
   "cell_type": "markdown",
   "id": "1c6b2505-72c1-4703-8afc-6197ae0c28fb",
   "metadata": {},
   "source": [
    "### Data Preparation"
   ]
  },
  {
   "cell_type": "code",
   "execution_count": 3,
   "id": "e24ab5ce-a6ce-4976-a6af-e9a50a479dcc",
   "metadata": {},
   "outputs": [],
   "source": [
    "train[\"date\"] = pd.to_datetime(train[\"date\"], format = \"%Y-%m-%d\")\n",
    "train = train.rename(columns={train.columns[0]: 'ds'})\n",
    "train = train.rename(columns={'wind_prod': 'y'})\n",
    "\n",
    "test[\"date\"] = pd.to_datetime(test[\"date\"], format = \"%Y-%m-%d\")\n",
    "test = test.rename(columns={test.columns[0]: 'ds'})\n",
    "test = test.rename(columns={'wind_prod': 'y'})\n",
    "\n",
    "# Add to the testing test the last 30 observation of the training test for n_lags = 30\n",
    "test = pd.concat([train.tail(30), test], ignore_index=True)\n",
    "\n",
    "# Normalize the dataframes\n",
    "scaler_train = preprocessing.MinMaxScaler()\n",
    "train_norm_tmp = scaler_train.fit_transform(train.iloc[:, 1:])\n",
    "train_norm_tmp = pd.DataFrame(train_norm_tmp)\n",
    "train_norm_tmp.columns=list(train.iloc[:, 1:].columns)\n",
    "train_norm = pd.concat([train[[\"ds\"]], train_norm_tmp], axis=1)\n",
    "\n",
    "test_norm_tmp = scaler_train.fit_transform(test.iloc[:, 1:])\n",
    "test_norm_tmp = pd.DataFrame(test_norm_tmp)\n",
    "test_norm_tmp.columns=list(test.iloc[:, 1:].columns)\n",
    "test_norm = pd.concat([test[[\"ds\"]], test_norm_tmp], axis=1)"
   ]
  },
  {
   "cell_type": "markdown",
   "id": "a98390d0-1f33-41b1-ae96-eaefb3308d85",
   "metadata": {},
   "source": [
    "### Model Estimation"
   ]
  },
  {
   "cell_type": "code",
   "execution_count": 4,
   "id": "738fb769-ba2d-4a63-ad5b-1cfe9785e8d7",
   "metadata": {},
   "outputs": [
    {
     "name": "stderr",
     "output_type": "stream",
     "text": [
      "WARNING - (NP.forecaster.fit) - When Global modeling with local normalization, metrics are displayed in normalized scale.\n",
      "INFO - (NP.df_utils._infer_frequency) - Major frequency D corresponds to 99.963% of the data.\n",
      "INFO - (NP.df_utils._infer_frequency) - Defined frequency is equal to major frequency - D\n",
      "INFO - (NP.config.init_data_params) - Setting normalization to global as only one dataframe provided for training.\n",
      "INFO - (NP.config.set_auto_batch_epoch) - Auto-set batch_size to 64\n",
      "INFO - (NP.config.set_auto_batch_epoch) - Auto-set epochs to 80\n",
      "WARNING - (NP.config.set_lr_finder_args) - Learning rate finder: The number of batches (43) is too small than the required number                     for the learning rate finder (236). The results might not be optimal.\n"
     ]
    },
    {
     "data": {
      "application/vnd.jupyter.widget-view+json": {
       "model_id": "e1228410a4c94cffbe9a2138418aef7c",
       "version_major": 2,
       "version_minor": 0
      },
      "text/plain": [
       "Finding best initial lr:   0%|          | 0/236 [00:00<?, ?it/s]"
      ]
     },
     "metadata": {},
     "output_type": "display_data"
    },
    {
     "data": {
      "application/vnd.jupyter.widget-view+json": {
       "model_id": "c27f46716e3e40f69757669410531bdc",
       "version_major": 2,
       "version_minor": 0
      },
      "text/plain": [
       "Training: 0it [00:00, ?it/s]"
      ]
     },
     "metadata": {},
     "output_type": "display_data"
    }
   ],
   "source": [
    "set_random_seed(2207)\n",
    "\n",
    "p0 = NeuralProphet(daily_seasonality=False, n_lags=30)\n",
    "\n",
    "for regressor in train_norm.iloc[:, 2:].columns:\n",
    "    p0.add_future_regressor(name = regressor)\n",
    "\n",
    "p0_fit = p0.fit(train_norm, freq=\"D\")"
   ]
  },
  {
   "cell_type": "markdown",
   "id": "6ee19f92-d906-4e57-9b12-23256d1c7a31",
   "metadata": {},
   "source": [
    "### Predictions"
   ]
  },
  {
   "cell_type": "code",
   "execution_count": 5,
   "id": "8dcedf65-98a2-4436-9e1d-105ea8dcaad4",
   "metadata": {},
   "outputs": [
    {
     "name": "stderr",
     "output_type": "stream",
     "text": [
      "INFO - (NP.df_utils._infer_frequency) - Major frequency D corresponds to 99.533% of the data.\n",
      "INFO - (NP.df_utils._infer_frequency) - Defined frequency is equal to major frequency - D\n",
      "INFO - (NP.df_utils._infer_frequency) - Major frequency D corresponds to 99.535% of the data.\n",
      "INFO - (NP.df_utils._infer_frequency) - Defined frequency is equal to major frequency - D\n",
      "INFO - (NP.data.processing._handle_missing_data) - Dropped 1 rows at the end with NaNs in future regressors.\n"
     ]
    },
    {
     "data": {
      "application/vnd.jupyter.widget-view+json": {
       "model_id": "1f6ca30e8a6e4c18accbb7430cc03404",
       "version_major": 2,
       "version_minor": 0
      },
      "text/plain": [
       "Predicting: 43it [00:00, ?it/s]"
      ]
     },
     "metadata": {},
     "output_type": "display_data"
    },
    {
     "name": "stderr",
     "output_type": "stream",
     "text": [
      "INFO - (NP.df_utils.return_df_in_original_format) - Returning df with no ID column\n"
     ]
    }
   ],
   "source": [
    "pred = p0.predict(test_norm)\n",
    "pred_new_shape = pd.concat([pred.iloc[30:,2], pred.iloc[30:,8:]], axis = 1)\n",
    "pred_new_shape = scaler_train.inverse_transform(pred_new_shape)\n",
    "final_pred = pd.concat([pd.DataFrame(pred.iloc[30:, 0].reset_index(drop=True)), pd.DataFrame(pred_new_shape)[0]], axis=1, ignore_index=True)\n",
    "final_pred = pd.concat([final_pred, test.iloc[31:, 1].reset_index(drop=True)], axis=1, ignore_index=True)\n",
    "final_pred.columns = [\"date\", \"predicted\", \"observed\"]\n",
    "\n",
    "if not os.path.isdir(os.path.join(folder, \"predictions\")):\n",
    "    os.makedirs(os.path.join(folder, \"predictions\"))\n",
    "final_pred.to_csv(os.path.join(folder, \"predictions/neurlprophet_predictions.csv\"), index = False)"
   ]
  }
 ],
 "metadata": {
  "kernelspec": {
   "display_name": "Python 3 (ipykernel)",
   "language": "python",
   "name": "python3"
  },
  "language_info": {
   "codemirror_mode": {
    "name": "ipython",
    "version": 3
   },
   "file_extension": ".py",
   "mimetype": "text/x-python",
   "name": "python",
   "nbconvert_exporter": "python",
   "pygments_lexer": "ipython3",
   "version": "3.12.7"
  }
 },
 "nbformat": 4,
 "nbformat_minor": 5
}
