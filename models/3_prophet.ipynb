{
 "cells": [
  {
   "cell_type": "markdown",
   "id": "333e0008-83a8-4241-991e-7beaccb15def",
   "metadata": {},
   "source": [
    "# Prohet"
   ]
  },
  {
   "cell_type": "code",
   "execution_count": 1,
   "id": "325da126-b545-472b-a729-839cb107f581",
   "metadata": {
    "vscode": {
     "languageId": "r"
    }
   },
   "outputs": [],
   "source": [
    "rm(list = ls())\n",
    "options(warn = -1)"
   ]
  },
  {
   "cell_type": "code",
   "execution_count": 2,
   "id": "d1f16e70-2f7e-4226-a5a2-1b9007e2c62b",
   "metadata": {
    "vscode": {
     "languageId": "r"
    }
   },
   "outputs": [],
   "source": [
    "suppressMessages(library(prophet))\n",
    "suppressMessages(library(dplyr))\n",
    "suppressMessages(library(ggplot2))"
   ]
  },
  {
   "cell_type": "code",
   "execution_count": 3,
   "id": "593791fe-a91b-46d1-ac91-fe3c6a714bf6",
   "metadata": {
    "vscode": {
     "languageId": "r"
    }
   },
   "outputs": [],
   "source": [
    "folder <- getwd()\n",
    "train <- read.csv(file.path(dirname(folder), \"data/training.csv\"))"
   ]
  },
  {
   "cell_type": "markdown",
   "id": "11bd131c-52aa-47f5-92f8-4bb4db29217c",
   "metadata": {},
   "source": [
    "### Data Preparation"
   ]
  },
  {
   "cell_type": "code",
   "execution_count": 4,
   "id": "ddc4acc1-b274-4474-b004-f2d560d6b9e5",
   "metadata": {
    "vscode": {
     "languageId": "r"
    }
   },
   "outputs": [],
   "source": [
    "y_train <- train[, c(1,2)]\n",
    "colnames(y_train) <- c(\"ds\", \"y\")\n",
    "\n",
    "# Add regressors - y's lags\n",
    "max_lag <- 30\n",
    "\n",
    "for (i in 1:max_lag) {\n",
    "  name_col <- paste(\"lag_\", i, sep = \"\")\n",
    "  y_train <- y_train %>%\n",
    "    mutate(!!name_col := lag(y, n = i))\n",
    "}\n",
    "\n",
    "# Add weather covariates\n",
    "prophet_train <- cbind(y_train, train[, -c(1,2)])\n",
    "prophet_train <- na.omit(prophet_train)"
   ]
  },
  {
   "cell_type": "markdown",
   "id": "d60296c3-0b33-44a1-8180-f08a071c139c",
   "metadata": {},
   "source": [
    "### Model Estimation"
   ]
  },
  {
   "cell_type": "code",
   "execution_count": 5,
   "id": "625be3a3-10bc-4453-b273-aa3a30831f06",
   "metadata": {
    "vscode": {
     "languageId": "r"
    }
   },
   "outputs": [],
   "source": [
    "# If execute_cv is set to True, the script performs cross-validation to tune hyperparameters change_point_prior_scale, seasonality_prior_scale\n",
    "# Otherwise, it skips this block and proceeds directly to estimate the model using pre-determined optimal hyperparameters\n",
    "\n",
    "execute_cv = FALSE\n",
    "\n",
    "if (execute_cv) {\n",
    "    cutoffs <- as.Date(c('2020-05-24', '2020-09-25', '2021-01-27', '2021-05-30', '2021-09-30'))\n",
    "    changepoint_prior_scale= c(0.001, 0.01, 0.1, 0.5)\n",
    "    seasonality_prior_scale= c(0.01, 0.1, 1.0, 10, 25,50)\n",
    "    \n",
    "    rmses<-matrix(NA,4,6)\n",
    "    colnames(rmses)<-c(paste0( \"season_\", seasonality_prior_scale))\n",
    "    rownames(rmses)<-c(paste0( \"change_\", changepoint_prior_scale))\n",
    "    \n",
    "    for(cp in changepoint_prior_scale){\n",
    "      for(ss in seasonality_prior_scale){\n",
    "         p0 <- prophet(seasonality.prior.scale = ss, changepoint.prior.scale = cp, daily.seasonality = F)\n",
    "           for (regressor in colnames(prophet_train[, -c(1, 2)])){\n",
    "                p0 <- add_regressor(p0, regressor)            \n",
    "                }\n",
    "        prophet_cv <- fit.prophet(p0, prophet_train)\n",
    "        \n",
    "        # Best 1 step ahead predictions\n",
    "        cv <- cross_validation(prophet_cv, horizon=230, units=\"days\", cutoffs = cutoffs)\n",
    "        rmse_cv <- performance_metrics(cv, metrics = \"rmse\")  \n",
    "        \n",
    "        rmses[paste0( \"change_\", cp), paste0( \"season_\", ss)] <- mean(rmse_cv$rmse)\n",
    "          }\n",
    "        }\n",
    "    print(rmses)\n",
    "\n",
    "    best_params <- which(rmses == min(rmses), arr.ind = TRUE)\n",
    "    best_cp <- best_params[1, \"row\"]\n",
    "    best_ss <- best_params[1, \"col\"]\n",
    "\n",
    "    p0 <- prophet(seasonality.prior.scale = best_ss, changepoint.prior.scale = best_cp, daily.seasonality = F)\n",
    "\n",
    "    for (regressor in colnames(prophet_train[, -c(1,2)])){\n",
    "        p0 <- add_regressor(p0, regressor)\n",
    "        }\n",
    "\n",
    "    prophet_model <- fit.prophet(p0, prophet_train)\n",
    "\n",
    "} else {\n",
    "    p0 <- prophet(seasonality.prior.scale = 15, changepoint.prior.scale = 0.01, daily.seasonality = F)\n",
    "\n",
    "    for (regressor in colnames(prophet_train[, -c(1,2)])){\n",
    "        p0 <- add_regressor(p0, regressor)\n",
    "        }\n",
    "\n",
    "    prophet_model <- fit.prophet(p0, prophet_train)\n",
    "}"
   ]
  },
  {
   "cell_type": "markdown",
   "id": "cd8c2336-ec5b-4995-9fab-0438db88cd10",
   "metadata": {},
   "source": [
    "### Predictions"
   ]
  },
  {
   "cell_type": "code",
   "execution_count": null,
   "id": "16919487-cf34-4414-bc98-543eb0087802",
   "metadata": {
    "vscode": {
     "languageId": "r"
    }
   },
   "outputs": [],
   "source": [
    "test <- read.csv(file.path(dirname(folder), \"data/testing.csv\"))\n",
    "exp_test <- rbind(tail(train, 30), test)\n",
    "\n",
    "# Prepare data for prediction\n",
    "y_test <- exp_test[, c(1,2)]\n",
    "colnames(y_test) <- c(\"ds\", \"y\")\n",
    "\n",
    "# Add regressors - y's lags\n",
    "max_lag <- 30\n",
    "\n",
    "for (i in 1:max_lag) {\n",
    "  name_col <- paste(\"lag_\", i, sep = \"\")\n",
    "  y_test <- y_test %>%\n",
    "    mutate(!!name_col := lag(y, n = i))\n",
    "}\n",
    "\n",
    "# Add weather covariates\n",
    "prophet_test <- cbind(y_test, exp_test[, -c(1,2)])\n",
    "prophet_test <- na.omit(prophet_test)\n",
    "\n",
    "df_predictions <- data.frame(ds = prophet_test$ds,\n",
    "                             pred=rep(NA, nrow(prophet_test)))\n",
    "\n",
    "prophet_pred <- predict(prophet_model, prophet_test[,-2])\n",
    "prophet_pred <- as.data.frame(cbind(prophet_pred$yhat, prophet_test$y, prophet_test$ds))\n",
    "colnames(prophet_pred) <- c(\"predicted\", \"observed\",\"date\")\n",
    "prophet_pred$date <- as.Date(prophet_pred$date, format = \"%Y-%m-%d\")\n",
    "prophet_pred$predicted <- as.numeric(prophet_pred$predicted)\n",
    "prophet_pred$observed <- as.numeric(prophet_pred$observed)\n",
    "prophet_pred <- prophet_pred[, c(\"date\", \"predicted\", \"observed\")]\n",
    "\n",
    "if (!file.exists(file.path(folder, \"predictions\"))) {\n",
    "  dir.create(predictions_folder, recursive = TRUE)\n",
    "}\n",
    "write.csv(prophet_pred, file=file.path(folder, \"predictions/prophet_predictions.csv\"), row.names = FALSE)"
   ]
  }
 ],
 "metadata": {
  "kernelspec": {
   "display_name": "R",
   "language": "R",
   "name": "ir"
  },
  "language_info": {
   "codemirror_mode": "r",
   "file_extension": ".r",
   "mimetype": "text/x-r-source",
   "name": "R",
   "pygments_lexer": "r",
   "version": "4.2.1"
  }
 },
 "nbformat": 4,
 "nbformat_minor": 5
}
