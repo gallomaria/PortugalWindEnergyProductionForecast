{
 "cells": [
  {
   "cell_type": "markdown",
   "id": "639e85c9-a9c7-4024-8fab-749b7b663dd3",
   "metadata": {},
   "source": [
    "# Energy Data Preparation"
   ]
  },
  {
   "cell_type": "code",
   "execution_count": 1,
   "id": "42f4ac1a-ed14-4dc3-8b0d-4ff4bece553f",
   "metadata": {},
   "outputs": [],
   "source": [
    "rm(list=ls())"
   ]
  },
  {
   "cell_type": "code",
   "execution_count": 2,
   "id": "f0bb0db6-71e5-427b-98d3-6e67f0913b00",
   "metadata": {},
   "outputs": [],
   "source": [
    "library(fs)\n",
    "library(stringr)"
   ]
  },
  {
   "cell_type": "code",
   "execution_count": 3,
   "id": "c7494916-a51f-4916-b01c-ae9c87f69699",
   "metadata": {},
   "outputs": [],
   "source": [
    "# Read files and select columns\n",
    "folder = getwd()\n",
    "file_list <- dir_ls(file.path(folder, \"data/weather/observed_data_2015_2023/raw\"), regexp = \"\\\\.csv$\")\n",
    "\n",
    "for (i in seq_along(file_list)) {\n",
    "    file <- file_list[i]\n",
    "    tmp <- read.csv(file, sep = \",\")\n",
    "    tmp <- na.omit(tmp)\n",
    "\n",
    "    # Adjust date\n",
    "    m<-str_sub(tmp$time, 1, 10)\n",
    "    tmp$time <- NULL\n",
    "    date<-as.Date(m)\n",
    "    tmp$date<-date\n",
    "\n",
    "\n",
    "    # Group on day \n",
    "    tmp_agg<-aggregate(tmp, by=list(tmp$date), FUN=mean)\n",
    "    tmp_agg$date<-tmp_agg$Group.1\n",
    "    tmp_agg$Group.1<-NULL\n",
    "    colnames(tmp_agg) <- c(\"temperature_c\", \"pressure_msl\", \"windspeed_100m\", \" date\")\n",
    "    tmp_agg <- tmp_agg[, order(names(tmp_agg))]\n",
    "\n",
    "    # Save file\n",
    "    write.csv(tmp_agg, file = file.path(folder, \"data/weather/observed_data_2015_2023/final\", \n",
    "                      paste0(tools::file_path_sans_ext(basename(file)), \"_final.csv\")), row.names = FALSE)\n",
    "    }"
   ]
  }
 ],
 "metadata": {
  "kernelspec": {
   "display_name": "R",
   "language": "R",
   "name": "ir"
  },
  "language_info": {
   "codemirror_mode": "r",
   "file_extension": ".r",
   "mimetype": "text/x-r-source",
   "name": "R",
   "pygments_lexer": "r",
   "version": "4.2.1"
  }
 },
 "nbformat": 4,
 "nbformat_minor": 5
}
