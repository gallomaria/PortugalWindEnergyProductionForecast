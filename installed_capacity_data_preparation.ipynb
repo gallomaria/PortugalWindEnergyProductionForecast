{
 "cells": [
  {
   "cell_type": "markdown",
   "id": "f0c5f02c-d78c-4672-b0ea-b2e40c72aa84",
   "metadata": {},
   "source": [
    "# Installed Capacity Data Preparation"
   ]
  },
  {
   "cell_type": "code",
   "execution_count": 1,
   "id": "6a9f7e5f-b192-48fb-aa74-04621abee906",
   "metadata": {},
   "outputs": [],
   "source": [
    "rm(list=ls())"
   ]
  },
  {
   "cell_type": "code",
   "execution_count": 2,
   "id": "a8e3b84f-a8c5-4d2d-9a4b-fca18f685837",
   "metadata": {},
   "outputs": [
    {
     "name": "stderr",
     "output_type": "stream",
     "text": [
      "Warning message:\n",
      "\"package 'forecast' was built under R version 4.2.2\"\n",
      "Registered S3 method overwritten by 'quantmod':\n",
      "  method            from\n",
      "  as.zoo.data.frame zoo \n",
      "\n",
      "Warning message:\n",
      "\"package 'zoo' was built under R version 4.2.2\"\n",
      "\n",
      "Attaching package: 'zoo'\n",
      "\n",
      "\n",
      "The following objects are masked from 'package:base':\n",
      "\n",
      "    as.Date, as.Date.numeric\n",
      "\n",
      "\n"
     ]
    }
   ],
   "source": [
    "library(fs)\n",
    "library(forecast)\n",
    "library(zoo)"
   ]
  },
  {
   "cell_type": "code",
   "execution_count": 3,
   "id": "35f7bab9-d55b-4617-bea7-9a7895164e6f",
   "metadata": {},
   "outputs": [],
   "source": [
    "folder <- getwd()\n",
    "capacity <- read.csv(file.path(folder, \"data/installed_capacity/raw/Installed Capacity per Production Type_201501010000-202401010000.csv\"))\n",
    "capacity <- as.data.frame(t(capacity))\n",
    "colnames(capacity) <- as.character(capacity[1, ])\n",
    "capacity <- capacity[-1, ]\n",
    "capacity$year <- c(2015:2023)\n",
    "colnames(capacity) <- c(\"wind_offshore\", \"wind_onshore\", \"grand_total\", \"year\")\n",
    "capacity$total_capacity <- as.numeric(capacity$wind_offshore) + as.numeric(capacity$wind_onshore)\t\n",
    "rownames(capacity) <- NULL\n",
    "capacity$wind_offshore <- NULL\n",
    "capacity$wind_onshore <- NULL\n",
    "capacity$grand_total <- NULL"
   ]
  },
  {
   "cell_type": "code",
   "execution_count": 4,
   "id": "50e6999d-38b8-41df-86ed-6985281bf4ad",
   "metadata": {},
   "outputs": [],
   "source": [
    "exp_capacity<-c(rep(capacity$total_capacity[1], 365),\n",
    "             rep(capacity$total_capacity[2], 366),\n",
    "             rep(capacity$total_capacity[3], 365),\n",
    "             rep(capacity$total_capacity[4], 365),\n",
    "             rep(capacity$total_capacity[5], 365),\n",
    "             rep(capacity$total_capacity[6], 366),\n",
    "             rep(capacity$total_capacity[7], 365),\n",
    "             rep(capacity$total_capacity[8], 365),\n",
    "             rep(capacity$total_capacity[9], 245))   \n",
    "\n",
    "# Add Date\n",
    "start_date <- as.Date(\"2015-01-01\")  \n",
    "end_date <- start_date + length(exp_capacity) - 1  \n",
    "date_seq <- seq(start_date, end_date, by = \"day\")\n",
    "exp_capacity <- data.frame(date = date_seq, total_capacity = exp_capacity)\n",
    "\n",
    "# Smooth the installed capacity\n",
    "smoothed_capacity<-rollmean(exp_capacity$total_capacity, k=365, fill=NA)\n",
    "smoothed_capacity[1:182]<-exp_capacity$total_capacity[1:182]\n",
    "smoothed_capacity[2986:3167]<-exp_capacity$total_capacity[2986:3167]\n",
    "exp_capacity$smoothed_capacity <- smoothed_capacity\n",
    "exp_capacity$total_capacity <- NULL"
   ]
  },
  {
   "cell_type": "code",
   "execution_count": 5,
   "id": "b7b2ce70-bad8-4938-9c34-a95536a5f450",
   "metadata": {},
   "outputs": [
    {
     "data": {
      "image/png": "[encoded data removed]",
      "text/plain": [
       "plot without title"
      ]
     },
     "metadata": {
      "image/png": {
       "height": 420,
       "width": 420
      }
     },
     "output_type": "display_data"
    }
   ],
   "source": [
    "smoothed_capacity<-ts(exp_capacity$smoothed_capacity, frequency = 365.25, start=c(2015, 01, 01))\n",
    "ts.plot(smoothed_capacity, col=c(\"blue\"))"
   ]
  },
  {
   "cell_type": "code",
   "execution_count": 7,
   "id": "98c94a7a-53bc-4e1b-b81b-8f330c2c3b03",
   "metadata": {},
   "outputs": [],
   "source": [
    "write.csv(exp_capacity, file=file.path(folder, \"data/installed_capacity/final/intalled_capacity.csv\"), row.names = FALSE)"
   ]
  }
 ],
 "metadata": {
  "kernelspec": {
   "display_name": "R",
   "language": "R",
   "name": "ir"
  },
  "language_info": {
   "codemirror_mode": "r",
   "file_extension": ".r",
   "mimetype": "text/x-r-source",
   "name": "R",
   "pygments_lexer": "r",
   "version": "4.2.1"
  }
 },
 "nbformat": 4,
 "nbformat_minor": 5
}
