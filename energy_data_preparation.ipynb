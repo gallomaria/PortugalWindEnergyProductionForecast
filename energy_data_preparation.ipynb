{
 "cells": [
  {
   "cell_type": "markdown",
   "id": "057f1884-593b-4f5d-a48b-4bbe436e2c9e",
   "metadata": {},
   "source": [
    "# Energy Data Preparation"
   ]
  },
  {
   "cell_type": "code",
   "execution_count": 1,
   "id": "e52d70d2-1349-452f-a7ba-7dbb4e316f65",
   "metadata": {},
   "outputs": [],
   "source": [
    "rm(list=ls())"
   ]
  },
  {
   "cell_type": "code",
   "execution_count": 2,
   "id": "e2805d3a-0ae1-460c-9aaa-84e10eedd40c",
   "metadata": {},
   "outputs": [
    {
     "name": "stderr",
     "output_type": "stream",
     "text": [
      "\n",
      "Attaching package: 'dplyr'\n",
      "\n",
      "\n",
      "The following objects are masked from 'package:stats':\n",
      "\n",
      "    filter, lag\n",
      "\n",
      "\n",
      "The following objects are masked from 'package:base':\n",
      "\n",
      "    intersect, setdiff, setequal, union\n",
      "\n",
      "\n"
     ]
    }
   ],
   "source": [
    "library(fs)\n",
    "library(stringr)\n",
    "library(dplyr)"
   ]
  },
  {
   "cell_type": "code",
   "execution_count": 3,
   "id": "21eed952-efdf-451c-9085-f7afa4e94177",
   "metadata": {},
   "outputs": [],
   "source": [
    "# Read files and select columns\n",
    "folder = getwd()\n",
    "\n",
    "file_list <- dir_ls(file.path(folder, \"data/energy_production/raw\"), regexp = \"\\\\.csv$\")\n",
    "df <- data.frame()\n",
    "\n",
    "for (i in seq_along(file_list)) {\n",
    "    file <- file_list[i]\n",
    "    \n",
    "    if (i == length(file_list)) {\n",
    "        tmp <- read.csv(file, sep = \";\")\n",
    "        } \n",
    "    else {\n",
    "            tmp <- read.csv(file, sep = \",\")\n",
    "        }\n",
    "    tmp <- select(tmp, \"MTU\", \"Wind.Offshore....Actual.Aggregated..MW.\",\n",
    "                     \"Wind.Onshore....Actual.Aggregated..MW.\")\n",
    "    df <- rbind(df, tmp)\n",
    "}\n",
    "\n",
    "colnames(df) <- c(\"date\", \"w_offshore\", \"w_onshore\")\n",
    "\n",
    "# Remove rows with \"-\" \n",
    "df <- df[!grepl(\"-\", df$w_offshore), ]\n",
    "df <- df[!grepl(\"-\", df$w_onshore), ]\n",
    "\n",
    "# Fill missing data with 0 (solar time change and no production)\n",
    "df$w_offshore <- as.numeric(ifelse(df$w_offshore == \"n/e\", 0, df$w_offshore))\n",
    "df$w_onshore <- as.numeric(ifelse(df$w_onshore == \"n/e\", 0, df$w_onshore))\n",
    "df[is.na(df)] <- 0\n",
    "# Aggregate by date (there are duplicates)\n",
    "df <- aggregate(df[,2:3], by=list(df$date), FUN=sum)\n",
    "\n",
    "# Aggregate wind production OnShore and OffShore\n",
    "df$wind_prod <- df$w_offshore + df$w_onshore\n",
    "df$w_offshore <- NULL\n",
    "df$w_onshore <- NULL\n",
    "colnames(df) <- c(\"date\", \"wind_prod\")\n",
    "\n",
    "# Fix column date\n",
    "date_tmp<-str_sub(df$date, 1, 10)\n",
    "date_tmp<-gsub(\"\\\\.\" , \"/\", date_tmp)\n",
    "date_tmp<-as.Date(date_tmp, format = \"%d/%m/%Y\")\n",
    "df$date<-date_tmp\n",
    "\n",
    "# Aggregate by day -> median value\n",
    "df<-aggregate(df[\"wind_prod\"], by=list(df$date), FUN=mean)\n",
    "colnames(df) <- c(\"date\", \"wind_prod\")"
   ]
  },
  {
   "cell_type": "code",
   "execution_count": 4,
   "id": "c7e0e5f5-ce5e-4100-a02e-0b49db001d5f",
   "metadata": {},
   "outputs": [
    {
     "data": {
      "image/png": "[encoded data removed]",
      "text/plain": [
       "plot without title"
      ]
     },
     "metadata": {
      "image/png": {
       "height": 420,
       "width": 420
      }
     },
     "output_type": "display_data"
    }
   ],
   "source": [
    "# Timer series plot\n",
    "wind<-ts(df$wind_prod, frequency = 365.25, start=c(2015, 01, 01))\n",
    "ts.plot(wind, col=c(\"lightblue\"))"
   ]
  },
  {
   "cell_type": "code",
   "execution_count": 5,
   "id": "3f3e216e-d2ed-4463-9387-b178a3ecb0a8",
   "metadata": {},
   "outputs": [],
   "source": [
    "# Save the file \n",
    "write.csv(df, file=file.path(folder, \"data/energy_production/final/wind_production.csv\"), row.names = FALSE)"
   ]
  }
 ],
 "metadata": {
  "kernelspec": {
   "display_name": "R",
   "language": "R",
   "name": "ir"
  },
  "language_info": {
   "codemirror_mode": "r",
   "file_extension": ".r",
   "mimetype": "text/x-r-source",
   "name": "R",
   "pygments_lexer": "r",
   "version": "4.2.1"
  }
 },
 "nbformat": 4,
 "nbformat_minor": 5
}
